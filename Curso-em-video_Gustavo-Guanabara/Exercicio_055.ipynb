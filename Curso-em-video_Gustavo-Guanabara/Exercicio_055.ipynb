{
 "cells": [
  {
   "cell_type": "code",
   "execution_count": 7,
   "metadata": {},
   "outputs": [
    {
     "name": "stdout",
     "output_type": "stream",
     "text": [
      "Entre essas 5 pessoas, a mais pesada tem 89KG e a mais leve tem 47KG\n"
     ]
    }
   ],
   "source": [
    "# Exercício 055 - Maior e menor da sequência\n",
    "\n",
    "contador = 1\n",
    "lista = []\n",
    "\n",
    "for p in range(1, 6):\n",
    "    peso = float(input(f'Digite o peso da {contador}º pessoa: '))\n",
    "    contador += 1\n",
    "    lista.append(peso)\n",
    "\n",
    "print(f'Entre essas 5 pessoas, a mais pesada tem {max(lista):.0f}KG e a mais leve tem {min(lista):.0f}KG')\n"
   ]
  }
 ],
 "metadata": {
  "kernelspec": {
   "display_name": "Python 3",
   "language": "python",
   "name": "python3"
  },
  "language_info": {
   "codemirror_mode": {
    "name": "ipython",
    "version": 3
   },
   "file_extension": ".py",
   "mimetype": "text/x-python",
   "name": "python",
   "nbconvert_exporter": "python",
   "pygments_lexer": "ipython3",
   "version": "3.11.3"
  },
  "orig_nbformat": 4
 },
 "nbformat": 4,
 "nbformat_minor": 2
}
