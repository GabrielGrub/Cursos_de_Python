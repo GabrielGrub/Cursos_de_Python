{
 "cells": [
  {
   "cell_type": "code",
   "execution_count": 37,
   "metadata": {},
   "outputs": [
    {
     "name": "stdout",
     "output_type": "stream",
     "text": [
      "O empréstimo foi concedido!\n",
      "A casa custa R$150000.00, o sálario do comprador é R$3000.00, as prestações mensais serão de R$500.00 por 300 meses\n"
     ]
    }
   ],
   "source": [
    "# Exercício 036 - Aprovando empréstimos\n",
    "\n",
    "valor = float(input('Qual o valor da casa? '))\n",
    "salario = float(input('Qual o salario do comprador? '))\n",
    "tempo = float(input('Quantos anos para pagar? '))\n",
    "\n",
    "prestacao = valor/(tempo*12)\n",
    "\n",
    "if prestacao <= (30/100)*salario:\n",
    "    print('O empréstimo foi concedido!')\n",
    "else:\n",
    "    print('O empréstimo foi negado!')\n",
    "\n",
    "print(f'A casa custa R${valor:.2f}, o sálario do comprador é R${salario:.2f}, as prestações mensais serão de R${prestacao:.2f} por {tempo*12:.0f} meses')\n"
   ]
  }
 ],
 "metadata": {
  "kernelspec": {
   "display_name": "Python 3",
   "language": "python",
   "name": "python3"
  },
  "language_info": {
   "codemirror_mode": {
    "name": "ipython",
    "version": 3
   },
   "file_extension": ".py",
   "mimetype": "text/x-python",
   "name": "python",
   "nbconvert_exporter": "python",
   "pygments_lexer": "ipython3",
   "version": "3.11.3"
  },
  "orig_nbformat": 4
 },
 "nbformat": 4,
 "nbformat_minor": 2
}
