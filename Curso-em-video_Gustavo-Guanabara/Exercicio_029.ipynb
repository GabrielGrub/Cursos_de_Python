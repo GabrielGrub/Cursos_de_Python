{
 "cells": [
  {
   "cell_type": "code",
   "execution_count": 16,
   "metadata": {},
   "outputs": [
    {
     "name": "stdout",
     "output_type": "stream",
     "text": [
      "Você foi multado no valor de R$70.00, por estar a 90.0Km/h em uma via de 80Km/h.\n"
     ]
    }
   ],
   "source": [
    "# Exercício 029 - Radar eletrônico\n",
    "\n",
    "velocidade = float(input('Qual a velocidade do carro em Km/h: '))\n",
    "\n",
    "if velocidade > 80:\n",
    "    x = (velocidade - 80)*7\n",
    "    print(f'Você foi multado no valor de R${x:.2f}, por estar a {velocidade}Km/h em uma via de 80Km/h.')\n",
    "else:\n",
    "    print('Parabnes! Você está respeitando o limite de velocidade.')\n",
    "    "
   ]
  }
 ],
 "metadata": {
  "kernelspec": {
   "display_name": "Python 3",
   "language": "python",
   "name": "python3"
  },
  "language_info": {
   "codemirror_mode": {
    "name": "ipython",
    "version": 3
   },
   "file_extension": ".py",
   "mimetype": "text/x-python",
   "name": "python",
   "nbconvert_exporter": "python",
   "pygments_lexer": "ipython3",
   "version": "3.11.3"
  },
  "orig_nbformat": 4
 },
 "nbformat": 4,
 "nbformat_minor": 2
}
