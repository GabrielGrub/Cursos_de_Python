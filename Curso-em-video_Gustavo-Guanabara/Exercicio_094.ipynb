{
 "cells": [
  {
   "cell_type": "code",
   "execution_count": 15,
   "metadata": {},
   "outputs": [
    {
     "name": "stdout",
     "output_type": "stream",
     "text": [
      "A) Foram cadastradas 7 pessoas\n",
      "B) A média de idade do grupo é 25.9 anos\n",
      "C) Mulheres cadastradas: ['Rosa', 'Vitória', 'Ana', 'Eduarda']\n",
      "D) Pessoas com idade acima da média: ['Rosa', 'Eduarda']\n"
     ]
    }
   ],
   "source": [
    "# Exercício 094 - Unindo dicionários e listas\n",
    "\n",
    "c = 1\n",
    "lista = []\n",
    "pessoa = dict()\n",
    "resp = soma = media = 0\n",
    "mulheres = []\n",
    "mais_velhos = []\n",
    "\n",
    "while resp != \"N\":\n",
    "    pessoa['Nome'] = str(input(f'Nome da {c}º pessoa: '))\n",
    "    pessoa['Sexo']  = str(input(f'Sexo: [M/F]')).upper()\n",
    "    pessoa['Idade']  = int(input('Idade: '))\n",
    "    soma += pessoa['Idade']\n",
    "    lista.append(pessoa.copy())\n",
    "    pessoa.clear()\n",
    "    c += 1\n",
    "    while True:\n",
    "        resp = str(input('Quer cadastrar mais um pessoa? [S/N]').upper())\n",
    "        if resp == \"S\" or resp == \"N\":\n",
    "            break\n",
    "\n",
    "media = float(soma/len(lista))\n",
    "\n",
    "print(f'A) Foram cadastradas {len(lista)} pessoas')\n",
    "print(f'B) A média de idade do grupo é {media:.1f} anos')\n",
    "\n",
    "for p in lista:\n",
    "    if p['Sexo'] == 'F':\n",
    "        mulheres.append(p['Nome'])\n",
    "    if p['Idade'] > media:\n",
    "        mais_velhos.append(p['Nome'])\n",
    "\n",
    "print(f'C) Mulheres cadastradas: {mulheres}')\n",
    "print(f'D) Pessoas com idade acima da média: {mais_velhos}')\n"
   ]
  }
 ],
 "metadata": {
  "kernelspec": {
   "display_name": "Python 3",
   "language": "python",
   "name": "python3"
  },
  "language_info": {
   "codemirror_mode": {
    "name": "ipython",
    "version": 3
   },
   "file_extension": ".py",
   "mimetype": "text/x-python",
   "name": "python",
   "nbconvert_exporter": "python",
   "pygments_lexer": "ipython3",
   "version": "3.11.3"
  },
  "orig_nbformat": 4
 },
 "nbformat": 4,
 "nbformat_minor": 2
}
