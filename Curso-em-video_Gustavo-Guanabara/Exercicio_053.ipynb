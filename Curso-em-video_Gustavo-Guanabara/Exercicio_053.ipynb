{
 "cells": [
  {
   "cell_type": "code",
   "execution_count": 51,
   "metadata": {},
   "outputs": [
    {
     "name": "stdout",
     "output_type": "stream",
     "text": [
      "A frase: Apos a sopa \n",
      "É um palíndromo!\n"
     ]
    }
   ],
   "source": [
    "# Exercício 053 - Detector de palíndromo\n",
    "\n",
    "frase_inicial = input('Escreva uma frase: ')\n",
    "\n",
    "frase = frase_inicial.lower().replace(' ','')\n",
    "\n",
    "c = 1\n",
    "p = 0\n",
    "\n",
    "for l in frase:\n",
    "    if l == frase[-c]:\n",
    "        p += 1\n",
    "    c += 1\n",
    "\n",
    "if p == len(frase):\n",
    "    print(f'A frase: {frase_inicial} \\nÉ um palíndromo!')\n",
    "else:\n",
    "    print(f'A frase: {frase_inicial} \\nNão é um palíndromo!')\n"
   ]
  }
 ],
 "metadata": {
  "kernelspec": {
   "display_name": "Python 3",
   "language": "python",
   "name": "python3"
  },
  "language_info": {
   "codemirror_mode": {
    "name": "ipython",
    "version": 3
   },
   "file_extension": ".py",
   "mimetype": "text/x-python",
   "name": "python",
   "nbconvert_exporter": "python",
   "pygments_lexer": "ipython3",
   "version": "3.11.3"
  },
  "orig_nbformat": 4
 },
 "nbformat": 4,
 "nbformat_minor": 2
}
