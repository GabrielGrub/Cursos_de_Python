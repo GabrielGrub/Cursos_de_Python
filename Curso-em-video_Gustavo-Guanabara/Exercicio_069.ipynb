{
 "cells": [
  {
   "cell_type": "code",
   "execution_count": 11,
   "metadata": {},
   "outputs": [
    {
     "name": "stdout",
     "output_type": "stream",
     "text": [
      "--> CADASTRO DE PESSOAS <--\n",
      "\n",
      "Foram cadastradas 5 pessoas com mais de 18 anos\n",
      "Foram cadastrados 3 homens\n",
      "Foram cadastradas 2 mulheres com menos de 20 anos\n",
      "\n",
      "--> FIM DO CADASTRO DE PESSOAS <--\n",
      "\n"
     ]
    }
   ],
   "source": [
    "# Exercício 069 - Análise de dados do grupo\n",
    "\n",
    "print('--> CADASTRO DE PESSOAS <--\\n')\n",
    "\n",
    "maior_que_18 = homens = mulheres_menor_20 = 0\n",
    "\n",
    "while True:\n",
    "    a = int(input('Qual a idade da pessoa? '))\n",
    "    if a > 18:\n",
    "        maior_que_18 += 1\n",
    "    b = ' '\n",
    "    while b not in 'MF':\n",
    "        b = input('Qual o sexo da pessoa? [M/F]').strip().upper()\n",
    "        if b == 'M':\n",
    "            homens += 1\n",
    "        if b == 'F' and a < 20:\n",
    "            mulheres_menor_20 += 1\n",
    "    c = ' '\n",
    "    while c not in 'SN':\n",
    "        c = input('Quer cadastrar mais uma pessoa? [S/N]').strip().upper()\n",
    "    if c == 'N':\n",
    "        break\n",
    "\n",
    "print(f'Foram cadastradas {maior_que_18} pessoas com mais de 18 anos')\n",
    "print(f'Foram cadastrados {homens} homens')\n",
    "print(f'Foram cadastradas {mulheres_menor_20} mulheres com menos de 20 anos')\n",
    "\n",
    "print('\\n--> FIM DO CADASTRO DE PESSOAS <--\\n')\n"
   ]
  }
 ],
 "metadata": {
  "kernelspec": {
   "display_name": "Python 3",
   "language": "python",
   "name": "python3"
  },
  "language_info": {
   "codemirror_mode": {
    "name": "ipython",
    "version": 3
   },
   "file_extension": ".py",
   "mimetype": "text/x-python",
   "name": "python",
   "nbconvert_exporter": "python",
   "pygments_lexer": "ipython3",
   "version": "3.11.3"
  },
  "orig_nbformat": 4
 },
 "nbformat": 4,
 "nbformat_minor": 2
}
