{
 "cells": [
  {
   "cell_type": "code",
   "execution_count": 6,
   "metadata": {},
   "outputs": [
    {
     "name": "stdout",
     "output_type": "stream",
     "text": [
      "Os 10 termos de uma PA de razão 9\n",
      "\n",
      "9 -> 18 -> 27 -> 36 -> 45 -> 54 -> 63 -> 72 -> 81 -> 90 -> ACABOU\n"
     ]
    }
   ],
   "source": [
    "# Exercício 061 - Progressão aritmética v.2.0\n",
    "\n",
    "c = 0\n",
    "t = int(input('Digite o primeiro termo: '))\n",
    "r = int(input('Digite a razão: '))\n",
    "\n",
    "print(f'Os 10 termos de uma PA de razão {r}\\n')\n",
    "\n",
    "while c < 10:\n",
    "    pa = t + (c)*r\n",
    "    print(f'{pa}', end=' -> ')\n",
    "    c += 1\n",
    "print('ACABOU')\n"
   ]
  }
 ],
 "metadata": {
  "kernelspec": {
   "display_name": "Python 3",
   "language": "python",
   "name": "python3"
  },
  "language_info": {
   "codemirror_mode": {
    "name": "ipython",
    "version": 3
   },
   "file_extension": ".py",
   "mimetype": "text/x-python",
   "name": "python",
   "nbconvert_exporter": "python",
   "pygments_lexer": "ipython3",
   "version": "3.11.3"
  },
  "orig_nbformat": 4
 },
 "nbformat": 4,
 "nbformat_minor": 2
}
