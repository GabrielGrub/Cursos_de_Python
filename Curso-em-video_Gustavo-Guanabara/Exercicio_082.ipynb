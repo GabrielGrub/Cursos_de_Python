{
 "cells": [
  {
   "cell_type": "code",
   "execution_count": 7,
   "metadata": {},
   "outputs": [
    {
     "name": "stdout",
     "output_type": "stream",
     "text": [
      "Lista geral: [1, 3, 5, 7, 9, 8, 6, 4, 2, 0]\n",
      "Lista de pares: [8, 6, 4, 2, 0]\n",
      "Lista de ímpares: [1, 3, 5, 7, 9]\n"
     ]
    }
   ],
   "source": [
    "# Exercício 082 - Dividindo valores em várias listas\n",
    "\n",
    "lista = []\n",
    "lista_pares = []\n",
    "lista_impares = []\n",
    "\n",
    "while True:\n",
    "    lista.append(int(input('Digite um valor: ')))\n",
    "    resp = input('Se quiser parar digite: \"N\"').upper()\n",
    "    if 'N' in resp:\n",
    "        break\n",
    "\n",
    "for c in lista:\n",
    "    if c % 2 == 0:\n",
    "        lista_pares.append(c)\n",
    "    else:\n",
    "        lista_impares.append(c)\n",
    "\n",
    "print(f'Lista geral: {lista}')\n",
    "print(f'Lista de pares: {lista_pares}')\n",
    "print(f'Lista de ímpares: {lista_impares}')\n"
   ]
  }
 ],
 "metadata": {
  "kernelspec": {
   "display_name": "Python 3",
   "language": "python",
   "name": "python3"
  },
  "language_info": {
   "codemirror_mode": {
    "name": "ipython",
    "version": 3
   },
   "file_extension": ".py",
   "mimetype": "text/x-python",
   "name": "python",
   "nbconvert_exporter": "python",
   "pygments_lexer": "ipython3",
   "version": "3.11.3"
  },
  "orig_nbformat": 4
 },
 "nbformat": 4,
 "nbformat_minor": 2
}
