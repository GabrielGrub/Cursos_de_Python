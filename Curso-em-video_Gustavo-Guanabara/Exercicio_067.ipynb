{
 "cells": [
  {
   "cell_type": "code",
   "execution_count": 15,
   "metadata": {},
   "outputs": [
    {
     "name": "stdout",
     "output_type": "stream",
     "text": [
      "\u001b[1mTABUADA DO 9\u001b[0m\n",
      "9x1 = 9\n",
      "9x1 = 18\n",
      "9x1 = 27\n",
      "9x1 = 36\n",
      "9x1 = 45\n",
      "9x1 = 54\n",
      "9x1 = 63\n",
      "9x1 = 72\n",
      "9x1 = 81\n",
      "9x1 = 90\n",
      "\n",
      "E agora você quer ver a tabuada de qual valor? \n",
      "\n",
      "\u001b[1mTABUADA DO 17\u001b[0m\n",
      "17x1 = 17\n",
      "17x1 = 34\n",
      "17x1 = 51\n",
      "17x1 = 68\n",
      "17x1 = 85\n",
      "17x1 = 102\n",
      "17x1 = 119\n",
      "17x1 = 136\n",
      "17x1 = 153\n",
      "17x1 = 170\n",
      "\n",
      "E agora você quer ver a tabuada de qual valor? \n",
      "\n",
      "Acabou!\n"
     ]
    }
   ],
   "source": [
    "# Exercício 067 - Tabuada v3.0\n",
    "\n",
    "while True:\n",
    "    n = int(input('Digite um número natural para ver sua tabuada: (número negativo para parar)'))\n",
    "    if n < 0:\n",
    "        break\n",
    "    print(f'\\033[1mTABUADA DO {n}\\033[0m')\n",
    "    for c in range(1, 11):\n",
    "        print(f'{n}x1 = {n*c}')\n",
    "    print()\n",
    "    print('E agora você quer ver a tabuada de qual valor? ')\n",
    "    print()\n",
    "print('Acabou!')\n"
   ]
  }
 ],
 "metadata": {
  "kernelspec": {
   "display_name": "Python 3",
   "language": "python",
   "name": "python3"
  },
  "language_info": {
   "codemirror_mode": {
    "name": "ipython",
    "version": 3
   },
   "file_extension": ".py",
   "mimetype": "text/x-python",
   "name": "python",
   "nbconvert_exporter": "python",
   "pygments_lexer": "ipython3",
   "version": "3.11.3"
  },
  "orig_nbformat": 4
 },
 "nbformat": 4,
 "nbformat_minor": 2
}
