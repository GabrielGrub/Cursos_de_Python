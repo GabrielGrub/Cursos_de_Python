{
 "cells": [
  {
   "cell_type": "code",
   "execution_count": 13,
   "metadata": {},
   "outputs": [
    {
     "name": "stdout",
     "output_type": "stream",
     "text": [
      "1º:2\n",
      "2º:4\n",
      "3º:6\n",
      "4º:8\n",
      "5º:3\n",
      "6º:5\n",
      "\n",
      "A soma dos pares em dentro dos 6 valores digitados deu 20\n"
     ]
    }
   ],
   "source": [
    "# Exercício 050 - Soma dos pares\n",
    "\n",
    "soma = 0\n",
    "\n",
    "for c in range(1, 7):\n",
    "    x= int(input('Digite um número: '))\n",
    "    if x % 2 == 0:\n",
    "        soma += x\n",
    "        print(f'{c}º:{x}')\n",
    "    else:\n",
    "        print(f'{c}º:{x}')\n",
    "\n",
    "print(f'\\nA soma dos pares em dentro dos {c} valores digitados deu {soma}')\n"
   ]
  }
 ],
 "metadata": {
  "kernelspec": {
   "display_name": "Python 3",
   "language": "python",
   "name": "python3"
  },
  "language_info": {
   "codemirror_mode": {
    "name": "ipython",
    "version": 3
   },
   "file_extension": ".py",
   "mimetype": "text/x-python",
   "name": "python",
   "nbconvert_exporter": "python",
   "pygments_lexer": "ipython3",
   "version": "3.11.3"
  },
  "orig_nbformat": 4
 },
 "nbformat": 4,
 "nbformat_minor": 2
}
