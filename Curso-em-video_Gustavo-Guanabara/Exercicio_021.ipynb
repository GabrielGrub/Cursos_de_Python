{
 "cells": [
  {
   "cell_type": "code",
   "execution_count": 1,
   "metadata": {},
   "outputs": [
    {
     "name": "stdout",
     "output_type": "stream",
     "text": [
      "pygame 2.4.0 (SDL 2.26.4, Python 3.11.3)\n",
      "Hello from the pygame community. https://www.pygame.org/contribute.html\n"
     ]
    }
   ],
   "source": [
    "# Exercício 021 - Tocando um MP3\n",
    "\n",
    "# Necessario ter o MP3 na pasta do arquivo deste código\n",
    "\n",
    "import pygame\n",
    "\n",
    "pygame.mixer.init()\n",
    "pygame.init()\n",
    "pygame.mixer.music.load('Exercicio_021 - Kate-Bush_Running-Up-That-Hill')\n",
    "pygame.mixer.music.play()\n",
    "pygame.event.wait()"
   ]
  }
 ],
 "metadata": {
  "kernelspec": {
   "display_name": "Python 3",
   "language": "python",
   "name": "python3"
  },
  "language_info": {
   "codemirror_mode": {
    "name": "ipython",
    "version": 3
   },
   "file_extension": ".py",
   "mimetype": "text/x-python",
   "name": "python",
   "nbconvert_exporter": "python",
   "pygments_lexer": "ipython3",
   "version": "3.11.3"
  },
  "orig_nbformat": 4
 },
 "nbformat": 4,
 "nbformat_minor": 2
}
