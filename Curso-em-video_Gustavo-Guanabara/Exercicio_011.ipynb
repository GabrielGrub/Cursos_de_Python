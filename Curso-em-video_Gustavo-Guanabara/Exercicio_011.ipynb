{
 "cells": [
  {
   "cell_type": "code",
   "execution_count": 7,
   "metadata": {},
   "outputs": [
    {
     "name": "stdout",
     "output_type": "stream",
     "text": [
      "A área da parede é 6.0m², para pintá-la será preciso 3.0 litros de tinta.\n"
     ]
    }
   ],
   "source": [
    "# Exercício 011 - Pintando uma parede\n",
    "\n",
    "altura = float(input('Qual é a altura da parede em metros? '))\n",
    "largura = float(input('Qual é a largura da parede metros? '))\n",
    "area = altura*largura\n",
    "print(f'A área da parede é {area}m², para pintá-la será preciso {area/2} litros de tinta.')\n"
   ]
  }
 ],
 "metadata": {
  "kernelspec": {
   "display_name": "Python 3",
   "language": "python",
   "name": "python3"
  },
  "language_info": {
   "codemirror_mode": {
    "name": "ipython",
    "version": 3
   },
   "file_extension": ".py",
   "mimetype": "text/x-python",
   "name": "python",
   "nbconvert_exporter": "python",
   "pygments_lexer": "ipython3",
   "version": "3.11.3"
  },
  "orig_nbformat": 4
 },
 "nbformat": 4,
 "nbformat_minor": 2
}
