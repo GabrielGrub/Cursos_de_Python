{
 "cells": [
  {
   "cell_type": "code",
   "execution_count": 2,
   "metadata": {},
   "outputs": [
    {
     "name": "stdout",
     "output_type": "stream",
     "text": [
      "O número é o 5, o seu antecessor é o 4 e o seu sucessor é o 6\n"
     ]
    }
   ],
   "source": [
    "# Exercício 005 - Antecessor e sucessor\n",
    "\n",
    "n= int(input('Digite um número inteiro:'))\n",
    "print(f'O número escolhido foi o {n}. O seu antecessor é o {n-1} e o seu sucessor é o {n+1}')\n"
   ]
  }
 ],
 "metadata": {
  "kernelspec": {
   "display_name": "Python 3",
   "language": "python",
   "name": "python3"
  },
  "language_info": {
   "codemirror_mode": {
    "name": "ipython",
    "version": 3
   },
   "file_extension": ".py",
   "mimetype": "text/x-python",
   "name": "python",
   "nbconvert_exporter": "python",
   "pygments_lexer": "ipython3",
   "version": "3.11.3"
  },
  "orig_nbformat": 4
 },
 "nbformat": 4,
 "nbformat_minor": 2
}
