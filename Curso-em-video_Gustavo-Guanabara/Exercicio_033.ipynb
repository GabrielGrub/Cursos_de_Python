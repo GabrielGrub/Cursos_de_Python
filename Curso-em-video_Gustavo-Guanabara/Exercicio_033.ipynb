{
 "cells": [
  {
   "cell_type": "code",
   "execution_count": 12,
   "metadata": {},
   "outputs": [
    {
     "name": "stdout",
     "output_type": "stream",
     "text": [
      " Os números digitados foram 2, 4 e 3\n",
      "O maior número digitado foi 4 e o menor número digitado foi 2\n"
     ]
    }
   ],
   "source": [
    "# Exercício 033 - Maior e menor valores\n",
    "\n",
    "x = int(input('Digite o primeiro número: '))\n",
    "y = int(input('Digite o segundo número: '))\n",
    "z = int(input('Digite o terceiro número: '))\n",
    "\n",
    "numeros = [x,y,z]\n",
    "\n",
    "print(f'Os números digitados foram {x}, {y} e {z}')\n",
    "print(f'O maior número digitado foi {max(numeros)} e o menor número digitado foi {min(numeros)}')\n"
   ]
  }
 ],
 "metadata": {
  "kernelspec": {
   "display_name": "Python 3",
   "language": "python",
   "name": "python3"
  },
  "language_info": {
   "codemirror_mode": {
    "name": "ipython",
    "version": 3
   },
   "file_extension": ".py",
   "mimetype": "text/x-python",
   "name": "python",
   "nbconvert_exporter": "python",
   "pygments_lexer": "ipython3",
   "version": "3.11.3"
  },
  "orig_nbformat": 4
 },
 "nbformat": 4,
 "nbformat_minor": 2
}
