{
 "cells": [
  {
   "cell_type": "code",
   "execution_count": 26,
   "metadata": {},
   "outputs": [
    {
     "name": "stdout",
     "output_type": "stream",
     "text": [
      "O nome todo em maiúsculo fica: GABRIEL GRUB VIDAL DA SILVA \n",
      "O nome todo em minúsculo fica: gabriel grub vidal da silva\n",
      "O número de letras do nome é 23\n",
      "O número de letras do primeiro nome é 7\n"
     ]
    }
   ],
   "source": [
    "# Exercício 022 - Analisador de Textos\n",
    "\n",
    "nome = input(\"Digite o seu nome completo: \")\n",
    "\n",
    "nome_maiusculo = nome.upper()\n",
    "nome_minusculo = nome.lower()\n",
    "numero_de_letras = len(nome)-nome.count(' ')\n",
    "letras_primeiro_nome = len(nome.split(\" \")[0])\n",
    "\n",
    "print(f\"\"\"O nome todo em maiúsculo fica: {nome_maiusculo} \n",
    "O nome todo em minúsculo fica: {nome_minusculo}\n",
    "O número de letras do nome é {numero_de_letras}\n",
    "O número de letras do primeiro nome é {letras_primeiro_nome}\"\"\")\n"
   ]
  }
 ],
 "metadata": {
  "kernelspec": {
   "display_name": "Python 3",
   "language": "python",
   "name": "python3"
  },
  "language_info": {
   "codemirror_mode": {
    "name": "ipython",
    "version": 3
   },
   "file_extension": ".py",
   "mimetype": "text/x-python",
   "name": "python",
   "nbconvert_exporter": "python",
   "pygments_lexer": "ipython3",
   "version": "3.11.3"
  },
  "orig_nbformat": 4
 },
 "nbformat": 4,
 "nbformat_minor": 2
}
