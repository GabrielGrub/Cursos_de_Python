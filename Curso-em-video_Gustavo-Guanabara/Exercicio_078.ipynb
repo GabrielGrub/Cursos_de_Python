{
 "cells": [
  {
   "cell_type": "code",
   "execution_count": 21,
   "metadata": {},
   "outputs": [
    {
     "name": "stdout",
     "output_type": "stream",
     "text": [
      "Os valores digitados foram: [12, 23, 3, 34, 45]\n",
      "O maior valor digitado foi 45 e está na 5º posição\n",
      "O menor valor digitado foi 3 e está na 3º posição\n"
     ]
    }
   ],
   "source": [
    "# Exercício 078 - Maior e menor valores na lista\n",
    "\n",
    "lista = []\n",
    "posicao_maior = []\n",
    "posicao_menor = []\n",
    "\n",
    "for c in range(0, 5):\n",
    "    x = int(input('Digite um número: '))\n",
    "    lista.append(x)\n",
    "\n",
    "print(f'Os valores digitados foram: {lista}')\n",
    "print(f'O maior valor digitado foi {max(lista)} e está na {lista.index(max(lista))+1}º posição')\n",
    "print(f'O menor valor digitado foi {min(lista)} e está na {lista.index(min(lista))+1}º posição')\n"
   ]
  }
 ],
 "metadata": {
  "kernelspec": {
   "display_name": "Python 3",
   "language": "python",
   "name": "python3"
  },
  "language_info": {
   "codemirror_mode": {
    "name": "ipython",
    "version": 3
   },
   "file_extension": ".py",
   "mimetype": "text/x-python",
   "name": "python",
   "nbconvert_exporter": "python",
   "pygments_lexer": "ipython3",
   "version": "3.11.3"
  },
  "orig_nbformat": 4
 },
 "nbformat": 4,
 "nbformat_minor": 2
}
