{
 "cells": [
  {
   "cell_type": "code",
   "execution_count": 11,
   "metadata": {},
   "outputs": [
    {
     "name": "stdout",
     "output_type": "stream",
     "text": [
      "Após o aumento o salário passou de R$1700.00 para R$1870.00\n"
     ]
    }
   ],
   "source": [
    "# Exercício 034 - Aumentos múltiplos\n",
    "\n",
    "salario = float(input('Qual é o salário do funcionário em R$ ?'))\n",
    "\n",
    "if salario > 1250:\n",
    "    print(f'Após o aumento o salário passou de R${salario:.2f} para R${salario*1.1:.2f}')\n",
    "elif salario <= 0:\n",
    "    print(f'Digite um valor valido!')\n",
    "else:\n",
    "    print(f'Após o aumento o salário passou de R${salario:.2f} para R${salario*1.15:.2f}')\n"
   ]
  }
 ],
 "metadata": {
  "kernelspec": {
   "display_name": "Python 3",
   "language": "python",
   "name": "python3"
  },
  "language_info": {
   "codemirror_mode": {
    "name": "ipython",
    "version": 3
   },
   "file_extension": ".py",
   "mimetype": "text/x-python",
   "name": "python",
   "nbconvert_exporter": "python",
   "pygments_lexer": "ipython3",
   "version": "3.11.3"
  },
  "orig_nbformat": 4
 },
 "nbformat": 4,
 "nbformat_minor": 2
}
