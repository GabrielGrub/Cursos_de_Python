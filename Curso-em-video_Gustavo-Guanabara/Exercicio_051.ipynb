{
 "cells": [
  {
   "cell_type": "code",
   "execution_count": 31,
   "metadata": {},
   "outputs": [
    {
     "name": "stdout",
     "output_type": "stream",
     "text": [
      "Os 10 termos de uma PA de razão 2\n",
      "\n",
      "0 -> 2 -> 4 -> 6 -> 8 -> 10 -> 12 -> 14 -> 16 -> 18 -> ACABOU\n"
     ]
    }
   ],
   "source": [
    "# Exercício 051 - Progressão aritmética\n",
    "\n",
    "t = int(input('Digite o primeiro termo: '))\n",
    "r = int(input('Digite a razão: '))\n",
    "\n",
    "print(f'Os 10 termos de uma PA de razão {r}\\n')\n",
    "\n",
    "for c in range(0, 10):\n",
    "    pa = t + (c)*r\n",
    "    print(f'{pa}', end=' -> ')\n",
    "print('ACABOU')\n"
   ]
  }
 ],
 "metadata": {
  "kernelspec": {
   "display_name": "Python 3",
   "language": "python",
   "name": "python3"
  },
  "language_info": {
   "codemirror_mode": {
    "name": "ipython",
    "version": 3
   },
   "file_extension": ".py",
   "mimetype": "text/x-python",
   "name": "python",
   "nbconvert_exporter": "python",
   "pygments_lexer": "ipython3",
   "version": "3.11.3"
  },
  "orig_nbformat": 4
 },
 "nbformat": 4,
 "nbformat_minor": 2
}
