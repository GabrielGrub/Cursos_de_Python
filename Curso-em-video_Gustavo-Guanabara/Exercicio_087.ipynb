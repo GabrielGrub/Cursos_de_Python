{
 "cells": [
  {
   "cell_type": "code",
   "execution_count": 25,
   "metadata": {},
   "outputs": [
    {
     "name": "stdout",
     "output_type": "stream",
     "text": [
      "[9] [8] [7] \n",
      "[6] [5] [4] \n",
      "[3] [2] [1] \n",
      "\n",
      "A) A soma dos valores pares é 20.\n",
      "B) A soma dos valores da terceira coluna é 12.\n",
      "C) O maior valor da segunda linha é 6.\n"
     ]
    }
   ],
   "source": [
    "# Exercício 087 - Mais sobre matriz em Python\n",
    "\n",
    "soma = 0\n",
    "par = []\n",
    "maior = []\n",
    "\n",
    "matriz = [[0,0,0], [0,0,0], [0,0,0]]\n",
    "for l in range(0,3):\n",
    "    for c in range(0,3):\n",
    "        matriz[l][c] = int(input(f'Digite um valor pra [{l},{c}]: '))\n",
    "        if matriz[l][c] % 2 == 0:\n",
    "            par.append(matriz[l][c])\n",
    "        soma += matriz[l][2]\n",
    "        if matriz[1][c]:\n",
    "            maior.append(matriz[1][c])\n",
    "\n",
    "for l in range(0,3):\n",
    "    for c in range(0,3):\n",
    "        print(f'[{matriz[l][c]}]', end= ' ')\n",
    "    print()\n",
    "print()\n",
    "print(f'A) A soma dos valores pares é {sum(par)}.')\n",
    "print(f'B) A soma dos valores da terceira coluna é {soma}.')\n",
    "print(f'C) O maior valor da segunda linha é {max(maior)}.')\n"
   ]
  }
 ],
 "metadata": {
  "kernelspec": {
   "display_name": "Python 3",
   "language": "python",
   "name": "python3"
  },
  "language_info": {
   "codemirror_mode": {
    "name": "ipython",
    "version": 3
   },
   "file_extension": ".py",
   "mimetype": "text/x-python",
   "name": "python",
   "nbconvert_exporter": "python",
   "pygments_lexer": "ipython3",
   "version": "3.11.3"
  },
  "orig_nbformat": 4
 },
 "nbformat": 4,
 "nbformat_minor": 2
}
