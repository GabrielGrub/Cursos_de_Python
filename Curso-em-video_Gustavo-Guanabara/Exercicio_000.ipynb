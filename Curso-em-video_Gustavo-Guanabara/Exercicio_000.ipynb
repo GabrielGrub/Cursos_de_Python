{
 "cells": [
  {
   "cell_type": "code",
   "execution_count": 22,
   "metadata": {},
   "outputs": [
    {
     "name": "stdout",
     "output_type": "stream",
     "text": [
      "Hello World!\n"
     ]
    }
   ],
   "source": [
    "#Desafio 00\n",
    "\n",
    "print('Hello World!')\n"
   ]
  },
  {
   "cell_type": "code",
   "execution_count": 7,
   "metadata": {},
   "outputs": [
    {
     "name": "stdout",
     "output_type": "stream",
     "text": [
      "Olá Gabriel Grub Vidal da Silva, seja bem vindo!\n"
     ]
    }
   ],
   "source": [
    "#Desafio 01\n",
    "\n",
    "nome = input('Qual é o seu nome?')\n",
    "print(f'Olá {nome}, seja bem vindo!')\n"
   ]
  },
  {
   "cell_type": "code",
   "execution_count": 11,
   "metadata": {},
   "outputs": [
    {
     "name": "stdout",
     "output_type": "stream",
     "text": [
      "Você nasceu no dia 02 de Agosto de 2021, certo?\n"
     ]
    }
   ],
   "source": [
    "#Desafio 02\n",
    "\n",
    "dia = input('Qual o dia do seu nascimento?')\n",
    "mês = input('Qual o mês do seu nascimento?')\n",
    "ano = input('Qual o ano do seu nascimento?')\n",
    "print(f'Você nasceu no dia {dia} de {mês} de {ano}, certo?')\n"
   ]
  },
  {
   "cell_type": "code",
   "execution_count": 25,
   "metadata": {},
   "outputs": [
    {
     "name": "stdout",
     "output_type": "stream",
     "text": [
      "A soma é: 12.0\n"
     ]
    }
   ],
   "source": [
    "#Desafio 03\n",
    "\n",
    "nº1 = float(input('Digite um número'))\n",
    "nº2 = float(input('Digite um número'))\n",
    "print(f'A soma é: {nº1 + nº2}')\n"
   ]
  }
 ],
 "metadata": {
  "kernelspec": {
   "display_name": "Python 3",
   "language": "python",
   "name": "python3"
  },
  "language_info": {
   "codemirror_mode": {
    "name": "ipython",
    "version": 3
   },
   "file_extension": ".py",
   "mimetype": "text/x-python",
   "name": "python",
   "nbconvert_exporter": "python",
   "pygments_lexer": "ipython3",
   "version": "3.11.3"
  },
  "orig_nbformat": 4
 },
 "nbformat": 4,
 "nbformat_minor": 2
}
