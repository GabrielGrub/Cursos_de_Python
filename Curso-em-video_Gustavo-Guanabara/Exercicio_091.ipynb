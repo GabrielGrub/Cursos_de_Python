{
 "cells": [
  {
   "cell_type": "code",
   "execution_count": 114,
   "metadata": {},
   "outputs": [
    {
     "name": "stdout",
     "output_type": "stream",
     "text": [
      "Valores sorteados:\n",
      "  O jogador_1 tirou 2\n",
      "  O jogador_2 tirou 6\n",
      "  O jogador_3 tirou 1\n",
      "  O jogador_4 tirou 3\n",
      "\n",
      "Ranking dos jogadores:\n",
      " 1º lugar: jogador_2 com 6\n",
      " 2º lugar: jogador_4 com 3\n",
      " 3º lugar: jogador_1 com 2\n",
      " 4º lugar: jogador_3 com 1\n"
     ]
    }
   ],
   "source": [
    "# Exercício 091 - Jogo de dados em Python\n",
    "\n",
    "from random import randint\n",
    "\n",
    "jogadores = {'jogador_1' : 0, 'jogador_2' : 0, 'jogador_3' : 0, 'jogador_4' : 0}\n",
    "c = 1\n",
    "\n",
    "print('Valores sorteados:')\n",
    "\n",
    "for j, n in jogadores.items():\n",
    "    jogadores[j] = randint(0, 6)\n",
    "    print(f'  O {j} tirou {jogadores[j]}')\n",
    "print()\n",
    "\n",
    "print(f'Ranking dos jogadores:')\n",
    "for j in sorted(jogadores, key= jogadores.get, reverse=True):\n",
    "    print(f' {c}º lugar: {j} com {jogadores[j]}')\n",
    "    c += 1\n"
   ]
  }
 ],
 "metadata": {
  "kernelspec": {
   "display_name": "Python 3",
   "language": "python",
   "name": "python3"
  },
  "language_info": {
   "codemirror_mode": {
    "name": "ipython",
    "version": 3
   },
   "file_extension": ".py",
   "mimetype": "text/x-python",
   "name": "python",
   "nbconvert_exporter": "python",
   "pygments_lexer": "ipython3",
   "version": "3.11.3"
  },
  "orig_nbformat": 4
 },
 "nbformat": 4,
 "nbformat_minor": 2
}
