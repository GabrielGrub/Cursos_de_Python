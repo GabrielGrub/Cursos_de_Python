{
 "cells": [
  {
   "cell_type": "code",
   "execution_count": 17,
   "metadata": {},
   "outputs": [
    {
     "name": "stdout",
     "output_type": "stream",
     "text": [
      "Gabriel\n",
      "O tipo primitivo desse valor é <class 'str'>\n",
      "O tipo primitivo desse valor é somente espaços? False\n",
      "O tipo primitivo desse valor é somente números? False\n",
      "O tipo primitivo desse valor é somente alfabético? True\n",
      "O tipo primitivo desse valor é somente maíusculo? False\n",
      "O tipo primitivo desse valor é somente minúsculo? False\n",
      "O tipo primitivo desse valor é somente minúsculo? True\n"
     ]
    }
   ],
   "source": [
    "# Exercício 004 - Dissecando uma variável\n",
    "\n",
    "algo = input('Digite algo:')\n",
    "\n",
    "print(algo)\n",
    "print(f'O tipo primitivo desse valor é {type(algo)}')\n",
    "print(f'O tipo primitivo desse valor é somente espaços? {algo.isspace()}')\n",
    "print(f'O tipo primitivo desse valor é somente números? {algo.isnumeric()}')\n",
    "print(f'O tipo primitivo desse valor é somente alfabético? {algo.isalpha()}')\n",
    "print(f'O tipo primitivo desse valor é somente maíusculo? {algo.isupper()}')\n",
    "print(f'O tipo primitivo desse valor é somente minúsculo? {algo.islower()}')\n",
    "print(f'O tipo primitivo desse valor é somente minúsculo? {algo.istitle()}')\n",
    "\n"
   ]
  }
 ],
 "metadata": {
  "kernelspec": {
   "display_name": "Python 3",
   "language": "python",
   "name": "python3"
  },
  "language_info": {
   "codemirror_mode": {
    "name": "ipython",
    "version": 3
   },
   "file_extension": ".py",
   "mimetype": "text/x-python",
   "name": "python",
   "nbconvert_exporter": "python",
   "pygments_lexer": "ipython3",
   "version": "3.11.3"
  },
  "orig_nbformat": 4
 },
 "nbformat": 4,
 "nbformat_minor": 2
}
