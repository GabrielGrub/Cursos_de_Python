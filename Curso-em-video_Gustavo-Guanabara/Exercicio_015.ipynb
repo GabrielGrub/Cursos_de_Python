{
 "cells": [
  {
   "cell_type": "code",
   "execution_count": 3,
   "metadata": {},
   "outputs": [
    {
     "name": "stdout",
     "output_type": "stream",
     "text": [
      "O valor total a pagar é de R$1200.00\n"
     ]
    }
   ],
   "source": [
    "# Exercício 015 - Conversor de temperaturas\n",
    "\n",
    "dias = int(input('Por quantos dias o carro foi alugado? '))\n",
    "km = float(input('Quantos quilômetros o carro percorreu? '))\n",
    "pagar = 60*dias + 0.15*km\n",
    "print(f'O valor total a pagar é de R${pagar:.2f}')\n"
   ]
  }
 ],
 "metadata": {
  "kernelspec": {
   "display_name": "Python 3",
   "language": "python",
   "name": "python3"
  },
  "language_info": {
   "codemirror_mode": {
    "name": "ipython",
    "version": 3
   },
   "file_extension": ".py",
   "mimetype": "text/x-python",
   "name": "python",
   "nbconvert_exporter": "python",
   "pygments_lexer": "ipython3",
   "version": "3.11.3"
  },
  "orig_nbformat": 4
 },
 "nbformat": 4,
 "nbformat_minor": 2
}
