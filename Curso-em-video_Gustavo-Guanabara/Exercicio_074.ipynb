{
 "cells": [
  {
   "cell_type": "code",
   "execution_count": 15,
   "metadata": {},
   "outputs": [
    {
     "name": "stdout",
     "output_type": "stream",
     "text": [
      "Os números gerados foram: (60, 95, 22, 47, 44). O maior é o 95 e o menor é o 22\n"
     ]
    }
   ],
   "source": [
    "# Exercício 074 - Maior e menor valores em tuplas\n",
    "\n",
    "from random import randint\n",
    "\n",
    "numeros = (randint(0, 99), randint(0, 99), randint(0, 99), randint(0, 99),randint(0, 99))\n",
    "\n",
    "print(f'Os números gerados foram: {numeros}. O maior é o {max(sorted(numeros))} e o menor é o {min(sorted(numeros))}')"
   ]
  }
 ],
 "metadata": {
  "kernelspec": {
   "display_name": "Python 3",
   "language": "python",
   "name": "python3"
  },
  "language_info": {
   "codemirror_mode": {
    "name": "ipython",
    "version": 3
   },
   "file_extension": ".py",
   "mimetype": "text/x-python",
   "name": "python",
   "nbconvert_exporter": "python",
   "pygments_lexer": "ipython3",
   "version": "3.11.3"
  },
  "orig_nbformat": 4
 },
 "nbformat": 4,
 "nbformat_minor": 2
}
