{
 "cells": [
  {
   "cell_type": "code",
   "execution_count": 35,
   "metadata": {},
   "outputs": [
    {
     "name": "stdout",
     "output_type": "stream",
     "text": [
      "----------------------------------------\n",
      "            LISTA DE PREÇOS             \n",
      "----------------------------------------\n",
      "Caderno......................... R$25.00\n",
      "Caneta.......................... R$1.00\n",
      "Mochila......................... R$95.00\n",
      "Estojo.......................... R$15.00\n",
      "Lápis........................... R$0.50\n",
      "Caneca.......................... R$8.00\n",
      "Caderneta....................... R$6.00\n",
      "Régua........................... R$5.50\n",
      "----------------------------------------\n"
     ]
    }
   ],
   "source": [
    "# Exercício 076 - Lista de preços com Tuplas\n",
    "\n",
    "lista = ('Caderno', 25,\n",
    "         'Caneta', 1,\n",
    "         'Mochila', 95,\n",
    "         'Estojo', 15,\n",
    "         'Lápis', 0.5,\n",
    "         'Caneca', 8,\n",
    "         'Caderneta', 6,\n",
    "         'Régua', 5.5)\n",
    "\n",
    "print(f'-'*40)\n",
    "print(f'{\"LISTA DE PREÇOS\":^40}')\n",
    "print(f'-'*40)\n",
    "\n",
    "for c in range(0, len(lista)):\n",
    "    if c % 2 == 0:\n",
    "        print(f'{lista[c]:.<32}', end = ' ')\n",
    "    else:\n",
    "        print(f'R${lista[c]:>4.2f}')\n",
    "\n",
    "print(f'-'*40)\n"
   ]
  }
 ],
 "metadata": {
  "kernelspec": {
   "display_name": "Python 3",
   "language": "python",
   "name": "python3"
  },
  "language_info": {
   "codemirror_mode": {
    "name": "ipython",
    "version": 3
   },
   "file_extension": ".py",
   "mimetype": "text/x-python",
   "name": "python",
   "nbconvert_exporter": "python",
   "pygments_lexer": "ipython3",
   "version": "3.11.3"
  },
  "orig_nbformat": 4
 },
 "nbformat": 4,
 "nbformat_minor": 2
}
