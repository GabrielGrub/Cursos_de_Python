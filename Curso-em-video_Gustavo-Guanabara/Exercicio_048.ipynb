{
 "cells": [
  {
   "cell_type": "code",
   "execution_count": 21,
   "metadata": {},
   "outputs": [
    {
     "name": "stdout",
     "output_type": "stream",
     "text": [
      " A soma dos 83 valores solicitados deu 20667\n"
     ]
    }
   ],
   "source": [
    "# Exercício 048 - Soma ímpares múltiplos de três\n",
    "\n",
    "soma = 0\n",
    "contador = 0\n",
    "for c in range(1, 501):\n",
    "    if c % 2 != 0 and c % 3 == 0:\n",
    "        soma += c\n",
    "        contador += 1\n",
    "\n",
    "print(f' A soma dos {contador} valores solicitados deu {soma}')\n"
   ]
  }
 ],
 "metadata": {
  "kernelspec": {
   "display_name": "Python 3",
   "language": "python",
   "name": "python3"
  },
  "language_info": {
   "codemirror_mode": {
    "name": "ipython",
    "version": 3
   },
   "file_extension": ".py",
   "mimetype": "text/x-python",
   "name": "python",
   "nbconvert_exporter": "python",
   "pygments_lexer": "ipython3",
   "version": "3.11.3"
  },
  "orig_nbformat": 4
 },
 "nbformat": 4,
 "nbformat_minor": 2
}
