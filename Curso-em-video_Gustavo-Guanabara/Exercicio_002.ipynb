{
 "cells": [
  {
   "cell_type": "code",
   "execution_count": null,
   "metadata": {},
   "outputs": [],
   "source": [
    "# Exercício 002\n",
    "\n",
    "dia = input('Qual o dia do seu nascimento?')\n",
    "mês = input('Qual o mês do seu nascimento?')\n",
    "ano = input('Qual o ano do seu nascimento?')\n",
    "print(f'Você nasceu no dia {dia} de {mês} de {ano}, certo?')\n"
   ]
  }
 ],
 "metadata": {
  "language_info": {
   "name": "python"
  },
  "orig_nbformat": 4
 },
 "nbformat": 4,
 "nbformat_minor": 2
}
