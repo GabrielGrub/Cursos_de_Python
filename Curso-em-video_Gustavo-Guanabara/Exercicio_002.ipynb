{
 "cells": [
  {
   "cell_type": "code",
   "execution_count": 1,
   "metadata": {},
   "outputs": [
    {
     "name": "stdout",
     "output_type": "stream",
     "text": [
      "Olá Gabriel, seja bem vindo!\n"
     ]
    }
   ],
   "source": [
    "# Exercício 001\n",
    "\n",
    "nome = input('Qual é o seu nome?')\n",
    "print(f'Olá {nome}, seja bem vindo!')\n"
   ]
  }
 ],
 "metadata": {
  "kernelspec": {
   "display_name": "Python 3",
   "language": "python",
   "name": "python3"
  },
  "language_info": {
   "codemirror_mode": {
    "name": "ipython",
    "version": 3
   },
   "file_extension": ".py",
   "mimetype": "text/x-python",
   "name": "python",
   "nbconvert_exporter": "python",
   "pygments_lexer": "ipython3",
   "version": "3.11.3"
  },
  "orig_nbformat": 4
 },
 "nbformat": 4,
 "nbformat_minor": 2
}
