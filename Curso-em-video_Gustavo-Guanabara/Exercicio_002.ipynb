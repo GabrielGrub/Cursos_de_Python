{
 "cells": [
  {
   "cell_type": "code",
   "execution_count": 2,
   "metadata": {},
   "outputs": [
    {
     "name": "stdout",
     "output_type": "stream",
     "text": [
      "Você nasceu no dia 02 de agosto de 2001, certo?\n"
     ]
    }
   ],
   "source": [
    "# Exercício 002\n",
    "\n",
    "dia = input('Qual o dia do seu nascimento?')\n",
    "mês = input('Qual o mês do seu nascimento?')\n",
    "ano = input('Qual o ano do seu nascimento?')\n",
    "print(f'Você nasceu no dia {dia} de {mês} de {ano}, certo?')\n"
   ]
  }
 ],
 "metadata": {
  "kernelspec": {
   "display_name": "Python 3",
   "language": "python",
   "name": "python3"
  },
  "language_info": {
   "codemirror_mode": {
    "name": "ipython",
    "version": 3
   },
   "file_extension": ".py",
   "mimetype": "text/x-python",
   "name": "python",
   "nbconvert_exporter": "python",
   "pygments_lexer": "ipython3",
   "version": "3.11.3"
  },
  "orig_nbformat": 4
 },
 "nbformat": 4,
 "nbformat_minor": 2
}
