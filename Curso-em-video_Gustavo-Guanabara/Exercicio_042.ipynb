{
 "cells": [
  {
   "cell_type": "code",
   "execution_count": 5,
   "metadata": {},
   "outputs": [
    {
     "name": "stdout",
     "output_type": "stream",
     "text": [
      "Os segmentos de reta de comprimento 5.0, 5.0 e 5.0 PODEM FORMAR um triângulo\n",
      "O triângulo formado é equilátero pois todos os lados são iguais\n"
     ]
    }
   ],
   "source": [
    "# Exercício 042 - Analisando triângulos v.2.0\n",
    "\n",
    "x = float(input('Digite o comprimento da primeira reta: '))\n",
    "y = float(input('Digite o comprimento da segunda reta: '))\n",
    "z = float(input('Digite o comprimento da terceira reta: '))\n",
    "\n",
    "if x > 0 and y > 0 and z > 0:\n",
    "    if x+y > z and x+z > y and z+y > x:\n",
    "        print(f'Os segmentos de reta de comprimento {x}, {y} e {z} PODEM FORMAR um triângulo')\n",
    "        if x == y == z:\n",
    "            print('O triângulo formado é equilátero pois todos os lados são iguais')\n",
    "        elif x == y or x == z or y == z:\n",
    "            print('O triângulo formado é isósceles pois dois lados são iguais')\n",
    "        elif x != y != z:\n",
    "            print('O triângulo formado é escaleno pois todos os lados são diferentes') \n",
    "    else:\n",
    "        print(f'Os segmentos de reta de comprimento {x}, {y} e {z} NÃO podem formar um triângulo')\n",
    "else:\n",
    "    print('Digite apenas valores maiores que 0')\n"
   ]
  }
 ],
 "metadata": {
  "kernelspec": {
   "display_name": "Python 3",
   "language": "python",
   "name": "python3"
  },
  "language_info": {
   "codemirror_mode": {
    "name": "ipython",
    "version": 3
   },
   "file_extension": ".py",
   "mimetype": "text/x-python",
   "name": "python",
   "nbconvert_exporter": "python",
   "pygments_lexer": "ipython3",
   "version": "3.11.3"
  },
  "orig_nbformat": 4
 },
 "nbformat": 4,
 "nbformat_minor": 2
}
