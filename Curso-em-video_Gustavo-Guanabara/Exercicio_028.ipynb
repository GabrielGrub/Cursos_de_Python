{
 "cells": [
  {
   "cell_type": "code",
   "execution_count": 72,
   "metadata": {},
   "outputs": [
    {
     "name": "stdout",
     "output_type": "stream",
     "text": [
      "Ops, você errou! O numero sorteado foi 1\n"
     ]
    }
   ],
   "source": [
    "# Exercício 028 - Jogo da adivinhação v.1.0\n",
    "\n",
    "import random\n",
    "\n",
    "x = random.randrange(6)\n",
    "numero = int(input('Escolha um número de 0 a 5: '))\n",
    "\n",
    "if x == numero:\n",
    "    print('Parabens! Você acertou!')\n",
    "else:\n",
    "    print(f'Ops, você errou! O numero sorteado foi {x}')\n"
   ]
  }
 ],
 "metadata": {
  "kernelspec": {
   "display_name": "Python 3",
   "language": "python",
   "name": "python3"
  },
  "language_info": {
   "codemirror_mode": {
    "name": "ipython",
    "version": 3
   },
   "file_extension": ".py",
   "mimetype": "text/x-python",
   "name": "python",
   "nbconvert_exporter": "python",
   "pygments_lexer": "ipython3",
   "version": "3.11.3"
  },
  "orig_nbformat": 4
 },
 "nbformat": 4,
 "nbformat_minor": 2
}
