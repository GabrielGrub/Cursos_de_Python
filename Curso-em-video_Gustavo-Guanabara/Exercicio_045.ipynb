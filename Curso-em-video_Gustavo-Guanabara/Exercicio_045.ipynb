{
 "cells": [
  {
   "cell_type": "code",
   "execution_count": 62,
   "metadata": {},
   "outputs": [
    {
     "name": "stdout",
     "output_type": "stream",
     "text": [
      "Você escolheu pedra e oponente escolheu papel portanto você PERDEU!\n"
     ]
    }
   ],
   "source": [
    "# Exercício 045 - GAME: Papel, pedra, tesoura\n",
    "\n",
    "import random\n",
    "\n",
    "eu = input('Escolha: Pedra, papel ou tesoura! ')\n",
    "eu = eu.lower()\n",
    "\n",
    "if eu != 'papel' and eu != 'pedra' and eu != 'tesoura':\n",
    "    print('Faça uma escolha válida! \\nPapel, pedra ou tesoura')\n",
    "\n",
    "escolhas = ['papel', 'pedra', 'tesoura']\n",
    "random.shuffle(escolhas)\n",
    "oponente = escolhas[1]\n",
    "\n",
    "if eu == oponente:\n",
    "    print(f'Você escolheu {eu} e oponente escolheu {oponente} portanto é EMPATE!')\n",
    "elif eu == 'papel' and oponente == 'pedra':\n",
    "    print(f'Você escolheu {eu} e oponente escolheu {oponente} portanto você VENCEU!')\n",
    "elif eu == 'pedra' and oponente == 'tesoura':\n",
    "    print(f'Você escolheu {eu} e oponente escolheu {oponente} portanto você VENCEU!')\n",
    "elif eu == 'tesoura' and oponente == 'papel':\n",
    "    print(f'Você escolheu {eu} e oponente escolheu {oponente} portanto você VENCEU!')\n",
    "else:\n",
    "    print(f'Você escolheu {eu} e oponente escolheu {oponente} portanto você PERDEU!')\n"
   ]
  }
 ],
 "metadata": {
  "kernelspec": {
   "display_name": "Python 3",
   "language": "python",
   "name": "python3"
  },
  "language_info": {
   "codemirror_mode": {
    "name": "ipython",
    "version": 3
   },
   "file_extension": ".py",
   "mimetype": "text/x-python",
   "name": "python",
   "nbconvert_exporter": "python",
   "pygments_lexer": "ipython3",
   "version": "3.11.3"
  },
  "orig_nbformat": 4
 },
 "nbformat": 4,
 "nbformat_minor": 2
}
