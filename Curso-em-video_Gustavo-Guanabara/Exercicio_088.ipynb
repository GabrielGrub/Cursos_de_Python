{
 "cells": [
  {
   "cell_type": "code",
   "execution_count": 53,
   "metadata": {},
   "outputs": [
    {
     "name": "stdout",
     "output_type": "stream",
     "text": [
      "====== SORTEANDO 5 JOGOS ====== \n",
      "\n",
      "Jogo 1: [60, 40, 14, 59, 40, 17]\n",
      "\n",
      "Jogo 2: [11, 27, 19, 25, 53, 59]\n",
      "\n",
      "Jogo 3: [24, 47, 25, 0, 22, 10]\n",
      "\n",
      "Jogo 4: [40, 40, 1, 6, 15, 44]\n",
      "\n",
      "Jogo 5: [31, 36, 20, 28, 10, 17]\n",
      "\n",
      "========= BOA SORTE! ========= \n",
      "\n"
     ]
    }
   ],
   "source": [
    "# Exercício 088 - Palpites para a MEGA SENA\n",
    "\n",
    "from random import randint\n",
    "\n",
    "jogos = int(input('Quantos jogos você quer sortear? '))\n",
    "jogo = []\n",
    "\n",
    "print(\"=\"*6,f'SORTEANDO {jogos} JOGOS',\"=\"*6, \"\\n\")\n",
    "\n",
    "for c in range(0, jogos):\n",
    "    for j in range(0, 6):\n",
    "        jogo.append(randint(0, 60))\n",
    "    print(f'Jogo {c+1}: {jogo}')\n",
    "    jogo.clear()\n",
    "    print()\n",
    "\n",
    "print(\"=\"*9,f'BOA SORTE!',\"=\"*9, \"\\n\")\n"
   ]
  }
 ],
 "metadata": {
  "kernelspec": {
   "display_name": "Python 3",
   "language": "python",
   "name": "python3"
  },
  "language_info": {
   "codemirror_mode": {
    "name": "ipython",
    "version": 3
   },
   "file_extension": ".py",
   "mimetype": "text/x-python",
   "name": "python",
   "nbconvert_exporter": "python",
   "pygments_lexer": "ipython3",
   "version": "3.11.3"
  },
  "orig_nbformat": 4
 },
 "nbformat": 4,
 "nbformat_minor": 2
}
