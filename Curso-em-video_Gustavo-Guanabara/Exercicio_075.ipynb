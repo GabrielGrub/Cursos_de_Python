{
 "cells": [
  {
   "cell_type": "code",
   "execution_count": 31,
   "metadata": {},
   "outputs": [
    {
     "name": "stdout",
     "output_type": "stream",
     "text": [
      "Os números gerados foram: (2, 4, 6, 9)\n",
      "A) O número 9 apareceu 1 vezes\n",
      "B) O número 3 não foi digitado\n",
      "C) Os números pares digitados são foram 2 4 6 "
     ]
    }
   ],
   "source": [
    "# Exercício 075 - Ánalise de dados de uma Tupla\n",
    "\n",
    "n1 = int(input('Digite o 1º número: '))\n",
    "n2 = int(input('Digite o 2º número: '))\n",
    "n3 = int(input('Digite o 3º número: '))\n",
    "n4 = int(input('Digite o 4º número: '))\n",
    "\n",
    "numeros = (n1, n2, n3, n4)\n",
    "\n",
    "print(f'Os números gerados foram: {numeros}')\n",
    "\n",
    "print(f'A) O número 9 apareceu {numeros.count(9)} vezes')\n",
    "if 3 in numeros:\n",
    "     print(f'B) O primeiro número 3 apareceu na posição {numeros.index(3)+1}º')\n",
    "else:\n",
    "    print(f'B) O número 3 não foi digitado')\n",
    "print(f'C) Os números pares digitados são foram', end = ' ')\n",
    "for c in numeros:\n",
    "     if c % 2 == 0:\n",
    "        print(f'{c}', end = ' ')\n"
   ]
  }
 ],
 "metadata": {
  "kernelspec": {
   "display_name": "Python 3",
   "language": "python",
   "name": "python3"
  },
  "language_info": {
   "codemirror_mode": {
    "name": "ipython",
    "version": 3
   },
   "file_extension": ".py",
   "mimetype": "text/x-python",
   "name": "python",
   "nbconvert_exporter": "python",
   "pygments_lexer": "ipython3",
   "version": "3.11.3"
  },
  "orig_nbformat": 4
 },
 "nbformat": 4,
 "nbformat_minor": 2
}
