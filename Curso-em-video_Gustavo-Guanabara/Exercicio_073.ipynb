{
 "cells": [
  {
   "cell_type": "code",
   "execution_count": 23,
   "metadata": {},
   "outputs": [
    {
     "name": "stdout",
     "output_type": "stream",
     "text": [
      "A) Os cinco primeiro colocados do Brasileirão no em 20/07/2023 são: ('Botafogo', 'Flamengo', 'Grêmio', 'São Paulo', 'Fluminense')\n",
      "B) Os últimos quatro colocados do Brasileirão no em 20/07/2023 são: ('Bahia', 'Goiás', 'Coritiba', 'Vasco da Gama')\n",
      "C) Os clubes participantes são: ['América-MG', 'Athletico-PR', 'Atlético-MG', 'Bahia', 'Botafogo', 'Bragantino', 'Corinthians', 'Coritiba', 'Cruzeiro', 'Cuiabá', 'Flamengo', 'Fluminense', 'Fortaleza', 'Goiás', 'Grêmio', 'Internacional', 'Palmeiras', 'Santos', 'São Paulo', 'Vasco da Gama']\n",
      "D) O Santos está na posição: 14º\n"
     ]
    }
   ],
   "source": [
    "# Exercício 073 - Tuplas com times de futebol\n",
    "\n",
    "times = ('Botafogo', 'Flamengo', 'Grêmio', 'São Paulo', 'Fluminense', 'Palmeiras','Bragantino', \n",
    "         'Athletico-PR', 'Fortaleza', 'Cruzeiro', 'Internacional', 'Atlético-MG', 'Cuiabá', 'Santos', \n",
    "         'Corinthians', 'Bahia', 'Goiás', 'Coritiba', 'Vasco da Gama', 'América-MG')\n",
    "\n",
    "print(f'A) Os cinco primeiro colocados do Brasileirão no em 20/07/2023 são: {times[0:5]}')\n",
    "print(f'B) Os últimos quatro colocados do Brasileirão no em 20/07/2023 são: {times[-5:-1]}')\n",
    "print(f'C) Os clubes participantes são: {sorted(times)}')\n",
    "print(f'D) O Santos está na posição: {times.index(\"Santos\")+1}º')\n",
    "\n"
   ]
  }
 ],
 "metadata": {
  "kernelspec": {
   "display_name": "Python 3",
   "language": "python",
   "name": "python3"
  },
  "language_info": {
   "codemirror_mode": {
    "name": "ipython",
    "version": 3
   },
   "file_extension": ".py",
   "mimetype": "text/x-python",
   "name": "python",
   "nbconvert_exporter": "python",
   "pygments_lexer": "ipython3",
   "version": "3.11.3"
  },
  "orig_nbformat": 4
 },
 "nbformat": 4,
 "nbformat_minor": 2
}
