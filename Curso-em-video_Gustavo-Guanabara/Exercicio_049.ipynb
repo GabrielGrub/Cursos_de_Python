{
 "cells": [
  {
   "cell_type": "code",
   "execution_count": 13,
   "metadata": {},
   "outputs": [
    {
     "name": "stdout",
     "output_type": "stream",
     "text": [
      "\u001b[1mTABUADA DO 7\u001b[0m \n",
      "\n",
      "7x1 = 7\n",
      "7x1 = 14\n",
      "7x1 = 21\n",
      "7x1 = 28\n",
      "7x1 = 35\n",
      "7x1 = 42\n",
      "7x1 = 49\n",
      "7x1 = 56\n",
      "7x1 = 63\n",
      "7x1 = 70\n"
     ]
    }
   ],
   "source": [
    "# Exercício 049 - Tabuada v2.0\n",
    "\n",
    "n = int(input('Digite um número inteiro para ver sua tabuada: '))\n",
    "\n",
    "print(f'\\033[1mTABUADA DO {n}\\033[0m \\n')\n",
    "\n",
    "for c in range(1, 11):\n",
    "    print(f'{n}x1 = {n*c}')\n"
   ]
  }
 ],
 "metadata": {
  "kernelspec": {
   "display_name": "Python 3",
   "language": "python",
   "name": "python3"
  },
  "language_info": {
   "codemirror_mode": {
    "name": "ipython",
    "version": 3
   },
   "file_extension": ".py",
   "mimetype": "text/x-python",
   "name": "python",
   "nbconvert_exporter": "python",
   "pygments_lexer": "ipython3",
   "version": "3.11.3"
  },
  "orig_nbformat": 4
 },
 "nbformat": 4,
 "nbformat_minor": 2
}
