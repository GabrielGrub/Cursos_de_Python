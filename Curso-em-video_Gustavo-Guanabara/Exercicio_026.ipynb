{
 "cells": [
  {
   "cell_type": "code",
   "execution_count": 17,
   "metadata": {},
   "outputs": [
    {
     "name": "stdout",
     "output_type": "stream",
     "text": [
      "A letra \"g\" aparece 2 vezes na frase: eu gosto muito de escrever códigos \n",
      "A primeira letra g apareceu na posição 4 \n",
      "A última letra g apareceu na posição 32\n"
     ]
    }
   ],
   "source": [
    "# Exercício 026 - Primeiro e último nome de uma pessoa \n",
    "\n",
    "frase = input('Digite uma frase: ')\n",
    "letra = input('Digite uma letra:' )\n",
    "\n",
    "frase = frase.strip()\n",
    "frase = str(frase.lower())\n",
    "letra = str(letra.lower())\n",
    "\n",
    "x = frase.count(letra)\n",
    "y = frase.find(letra)+1\n",
    "z = frase.rfind(letra)+1\n",
    "\n",
    "print(f'A letra \"{letra}\" aparece {x} vezes na frase: {frase} \\nA primeira letra {letra} apareceu na posição {y} \\nA última letra {letra} apareceu na posição {z}')\n"
   ]
  }
 ],
 "metadata": {
  "kernelspec": {
   "display_name": "Python 3",
   "language": "python",
   "name": "python3"
  },
  "language_info": {
   "codemirror_mode": {
    "name": "ipython",
    "version": 3
   },
   "file_extension": ".py",
   "mimetype": "text/x-python",
   "name": "python",
   "nbconvert_exporter": "python",
   "pygments_lexer": "ipython3",
   "version": "3.11.3"
  },
  "orig_nbformat": 4
 },
 "nbformat": 4,
 "nbformat_minor": 2
}
