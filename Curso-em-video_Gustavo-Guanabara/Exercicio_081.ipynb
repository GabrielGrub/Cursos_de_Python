{
 "cells": [
  {
   "cell_type": "code",
   "execution_count": 20,
   "metadata": {},
   "outputs": [
    {
     "name": "stdout",
     "output_type": "stream",
     "text": [
      "A) Foram digitados 9 números\n",
      "B) Os valores digitados em ordem decrescente são: [89, 82, 78, 67, 56, 45, 34, 23, 12]\n",
      "C) O valor 5 não faz parte da lista\n"
     ]
    }
   ],
   "source": [
    "# Exercício 081 - Extraindo dados de uma lista\n",
    "\n",
    "lista = []\n",
    "\n",
    "while True:\n",
    "    n = int(input('Digite um valor: '))\n",
    "    resp = input('Se quiser parar digite: \"N\"').upper()\n",
    "    if 'N' in resp:\n",
    "        break\n",
    "    lista.append(n)\n",
    "\n",
    "lista_descrescente = sorted(lista, reverse = True)\n",
    "\n",
    "print(f'A) Foram digitados {len(lista)} números')\n",
    "print(f'B) Os valores digitados em ordem decrescente são: {lista_descrescente}')\n",
    "if 5 in lista:\n",
    "    print(f'C) O valor 5 faz parte da lista')\n",
    "else:\n",
    "    print(f'C) O valor 5 não faz parte da lista')\n"
   ]
  }
 ],
 "metadata": {
  "kernelspec": {
   "display_name": "Python 3",
   "language": "python",
   "name": "python3"
  },
  "language_info": {
   "codemirror_mode": {
    "name": "ipython",
    "version": 3
   },
   "file_extension": ".py",
   "mimetype": "text/x-python",
   "name": "python",
   "nbconvert_exporter": "python",
   "pygments_lexer": "ipython3",
   "version": "3.11.3"
  },
  "orig_nbformat": 4
 },
 "nbformat": 4,
 "nbformat_minor": 2
}
