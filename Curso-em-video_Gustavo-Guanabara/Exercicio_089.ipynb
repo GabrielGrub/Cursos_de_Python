{
 "cells": [
  {
   "cell_type": "code",
   "execution_count": 13,
   "metadata": {},
   "outputs": [
    {
     "name": "stdout",
     "output_type": "stream",
     "text": [
      "ID      NOME                MÉDIA\n",
      "-----------------------------------\n",
      "1       Gabriel                6.5\n",
      "2       Thomaz                 8.0\n",
      "3       Vitória                9.5\n",
      "-----------------------------------\n",
      "As notas de Thomaz são: 9.0 e 7.0\n",
      "As notas de Vitória são: 9.0 e 10.0\n"
     ]
    }
   ],
   "source": [
    "# Exercício 089 - Boletim com listas compostas\n",
    "\n",
    "aluno = []\n",
    "turma = []\n",
    "resp = 1\n",
    "\n",
    "while True:\n",
    "    aluno.append(str(input('Digite o nome do aluno: ')))\n",
    "    aluno.append(float(input('Digite a primeira nota desse aluno: ')))\n",
    "    aluno.append(float(input('Digite a segunda nota desse aluno: ')))\n",
    "    turma.append(aluno[:])\n",
    "    aluno.clear()\n",
    "    while resp not in [\"S\",\"N\"]:\n",
    "        resp = input('Quer cadastrar mais uma pessoa? [S/N]').upper()\n",
    "    if 'N' in resp:\n",
    "        break\n",
    "    resp = 0\n",
    "\n",
    "print(f'{\"ID\":<4}    {\"NOME\":<10}       {\"MÉDIA\":>8}')\n",
    "print('-'*35)\n",
    "\n",
    "for i, aluno in enumerate(turma):\n",
    "    nome = aluno[0]\n",
    "    media = (aluno[1] + aluno[2]) / 2\n",
    "    print(f'{i+1:<4}    {nome:<10}        {media:>8.1f}')\n",
    "\n",
    "print('-'*35)\n",
    "\n",
    "while True:\n",
    "    resp = int(input('Quer mostrar as notas de qual aluno pelo ID?  [0 - interrompe]'))\n",
    "    if resp == 0 :\n",
    "        break\n",
    "    if 1 <= resp <= len(turma):\n",
    "            aluno_escolhido = turma[resp - 1]  # Ajustar o índice para corresponder à posição na lista\n",
    "            print(f'As notas de {aluno_escolhido[0]} são: {aluno_escolhido[1]} e {aluno_escolhido[2]}')\n",
    "    else:\n",
    "            print('Aluno não encontrado. Digite um ID válido.')\n"
   ]
  }
 ],
 "metadata": {
  "kernelspec": {
   "display_name": "Python 3",
   "language": "python",
   "name": "python3"
  },
  "language_info": {
   "codemirror_mode": {
    "name": "ipython",
    "version": 3
   },
   "file_extension": ".py",
   "mimetype": "text/x-python",
   "name": "python",
   "nbconvert_exporter": "python",
   "pygments_lexer": "ipython3",
   "version": "3.11.3"
  },
  "orig_nbformat": 4
 },
 "nbformat": 4,
 "nbformat_minor": 2
}
