{
 "cells": [
  {
   "cell_type": "code",
   "execution_count": 13,
   "metadata": {},
   "outputs": [
    {
     "name": "stdout",
     "output_type": "stream",
     "text": [
      "Os 10 primeiros números da Sequência de Fibonacci\n",
      "0 -> 1 -> 1 -> 2 -> 3 -> 5 -> 8 -> 13 -> 21 -> 34 -> Acabou!\n"
     ]
    }
   ],
   "source": [
    "# Exercício 063 - Sequência de Fibonacci v.1.0\n",
    "\n",
    "x = int(input('Quantos números da Sequência de Fibonacci você quer mostrar? '))\n",
    "t = 0\n",
    "\n",
    "a = 0\n",
    "b = 1\n",
    "c = 0\n",
    "\n",
    "print(f'Os {x} primeiros números da Sequência de Fibonacci')\n",
    "\n",
    "while x != t:\n",
    "    print(f'{a}', end=' -> ')\n",
    "    a = b\n",
    "    b = b + c\n",
    "    c = a\n",
    "    t += 1\n",
    "\n",
    "print('Acabou!')\n"
   ]
  }
 ],
 "metadata": {
  "kernelspec": {
   "display_name": "Python 3",
   "language": "python",
   "name": "python3"
  },
  "language_info": {
   "codemirror_mode": {
    "name": "ipython",
    "version": 3
   },
   "file_extension": ".py",
   "mimetype": "text/x-python",
   "name": "python",
   "nbconvert_exporter": "python",
   "pygments_lexer": "ipython3",
   "version": "3.11.3"
  },
  "orig_nbformat": 4
 },
 "nbformat": 4,
 "nbformat_minor": 2
}
