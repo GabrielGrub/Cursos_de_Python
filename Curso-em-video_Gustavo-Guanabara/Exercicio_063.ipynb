{
 "cells": [
  {
   "cell_type": "code",
   "execution_count": 16,
   "metadata": {},
   "outputs": [
    {
     "name": "stdout",
     "output_type": "stream",
     "text": [
      "Os 10 primeiros números da Sequência de Fibonacci\n",
      "\n",
      "0 -> 1 -> 1 -> 2 -> 3 -> 5 -> 8 -> 13 -> 21 -> 34 -> Acabou!\n"
     ]
    }
   ],
   "source": [
    "# Exercício 063 - Sequência de Fibonacci v.1.0\n",
    "\n",
    "x = int(input('Quantos números da Sequência de Fibonacci você quer mostrar? '))\n",
    "\n",
    "c = 1\n",
    "n1 = 0\n",
    "n2 = 1\n",
    "n3 = 0\n",
    "\n",
    "print(f'Os {x} primeiros números da Sequência de Fibonacci\\n')\n",
    "\n",
    "while c <= x:\n",
    "    print(f'{n3}', end=' -> ')\n",
    "    n3 =  n2\n",
    "    n2 = n3 + n1\n",
    "    n1 = n3\n",
    "    c += 1\n",
    "\n",
    "print('Acabou!')\n"
   ]
  }
 ],
 "metadata": {
  "kernelspec": {
   "display_name": "Python 3",
   "language": "python",
   "name": "python3"
  },
  "language_info": {
   "codemirror_mode": {
    "name": "ipython",
    "version": 3
   },
   "file_extension": ".py",
   "mimetype": "text/x-python",
   "name": "python",
   "nbconvert_exporter": "python",
   "pygments_lexer": "ipython3",
   "version": "3.11.3"
  },
  "orig_nbformat": 4
 },
 "nbformat": 4,
 "nbformat_minor": 2
}
