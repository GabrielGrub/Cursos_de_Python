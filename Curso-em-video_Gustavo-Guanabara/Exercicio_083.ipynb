{
 "cells": [
  {
   "cell_type": "code",
   "execution_count": 25,
   "metadata": {},
   "outputs": [
    {
     "name": "stdout",
     "output_type": "stream",
     "text": [
      "A expressão: (5+8)*(7-2) é válida!\n"
     ]
    }
   ],
   "source": [
    "# Exercício 083 - Validando expressões matemáticas\n",
    "\n",
    "parenteses = []\n",
    "\n",
    "ex = str(input('Digite uma expressão matemática que possua parênteses: '))\n",
    "\n",
    "if \"(\" not in ex or \")\" not in ex:\n",
    "    print('Digite uma expressão com parênteses!')\n",
    "else:\n",
    "    for c in ex:\n",
    "        if c == \"(\":\n",
    "            parenteses.append(c)\n",
    "        elif c == \")\":\n",
    "            if len(parenteses) > 0:\n",
    "                parenteses.pop()\n",
    "            else:\n",
    "                parenteses.append(c)\n",
    "    if len(parenteses) == 0:\n",
    "        print(f'A expressão: {ex} é válida!')\n",
    "    else:\n",
    "        print(f'A expressão: {ex} é inválida!')\n"
   ]
  }
 ],
 "metadata": {
  "kernelspec": {
   "display_name": "Python 3",
   "language": "python",
   "name": "python3"
  },
  "language_info": {
   "codemirror_mode": {
    "name": "ipython",
    "version": 3
   },
   "file_extension": ".py",
   "mimetype": "text/x-python",
   "name": "python",
   "nbconvert_exporter": "python",
   "pygments_lexer": "ipython3",
   "version": "3.11.3"
  },
  "orig_nbformat": 4
 },
 "nbformat": 4,
 "nbformat_minor": 2
}
