{
 "cells": [
  {
   "cell_type": "code",
   "execution_count": 8,
   "metadata": {},
   "outputs": [
    {
     "name": "stdout",
     "output_type": "stream",
     "text": [
      "A) Foram cadastradas 3 pessoas\n",
      "B) O maior peso foi de 62KG. Que é o peso de Gabriel\n",
      "C) O menor peso foi de 42KG. Que é o peso de Vitória\n"
     ]
    }
   ],
   "source": [
    "# Exercício 084 - Lista composta e análise de dados\n",
    "\n",
    "pessoas = []\n",
    "individuo = []\n",
    "pesado = leve = 0\n",
    "resp = ''\n",
    "\n",
    "while True:\n",
    "    individuo.append(str(input('Digite o nome da pessoa: ')))\n",
    "    individuo.append(str(input('Agora digite o peso dessa pessoa em KG: ')))\n",
    "    if len(pessoas) == 0:\n",
    "        pesado = leve = individuo[1]\n",
    "    else: \n",
    "        if individuo[1] > pesado:\n",
    "            pesado = individuo[1]\n",
    "        if individuo[1] < leve:\n",
    "            leve = individuo[1]\n",
    "    pessoas.append(individuo[:])\n",
    "    individuo.clear()\n",
    "    while resp not in [\"S\",\"N\"]:\n",
    "        resp = input('Quer cadastrar mais uma pessoa? [S/N]').upper()\n",
    "    if 'N' in resp:\n",
    "        break\n",
    "    resp = 0\n",
    "\n",
    "print(f'A) Foram cadastradas {len(pessoas)} pessoas')\n",
    "print(f'B) O maior peso foi de {pesado}KG. Que é o peso de', end=' ')\n",
    "for p in pessoas:\n",
    "    if p[1] == pesado:\n",
    "        print(f'{p[0]}')\n",
    "print(f'C) O menor peso foi de {leve}KG. Que é o peso de', end=' ')\n",
    "for p in pessoas:\n",
    "    if p[1] == leve:\n",
    "        print(f'{p[0]}')\n"
   ]
  }
 ],
 "metadata": {
  "kernelspec": {
   "display_name": "Python 3",
   "language": "python",
   "name": "python3"
  },
  "language_info": {
   "codemirror_mode": {
    "name": "ipython",
    "version": 3
   },
   "file_extension": ".py",
   "mimetype": "text/x-python",
   "name": "python",
   "nbconvert_exporter": "python",
   "pygments_lexer": "ipython3",
   "version": "3.11.3"
  },
  "orig_nbformat": 4
 },
 "nbformat": 4,
 "nbformat_minor": 2
}
