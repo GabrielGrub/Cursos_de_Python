{
 "cells": [
  {
   "cell_type": "code",
   "execution_count": 34,
   "metadata": {},
   "outputs": [
    {
     "name": "stdout",
     "output_type": "stream",
     "text": [
      "O ano 2023 não é bissexto!\n"
     ]
    }
   ],
   "source": [
    "# Exercício 032 - Ano bissexto\n",
    "\n",
    "from datetime import date\n",
    "\n",
    "ano = int(input('Que ano você quer analisar? Digite 0 para analisar o ano atual.'))\n",
    "\n",
    "if ano == 0:\n",
    "    ano = date.today().year\n",
    "if ano % 4 == 0 and ano % 100 != 0 or ano % 400 == 0:\n",
    "    print(f'O ano {ano} é bissexto!')\n",
    "else:\n",
    "    print(f'O ano {ano} não é bissexto!')\n"
   ]
  }
 ],
 "metadata": {
  "kernelspec": {
   "display_name": "Python 3",
   "language": "python",
   "name": "python3"
  },
  "language_info": {
   "codemirror_mode": {
    "name": "ipython",
    "version": 3
   },
   "file_extension": ".py",
   "mimetype": "text/x-python",
   "name": "python",
   "nbconvert_exporter": "python",
   "pygments_lexer": "ipython3",
   "version": "3.11.3"
  },
  "orig_nbformat": 4
 },
 "nbformat": 4,
 "nbformat_minor": 2
}
