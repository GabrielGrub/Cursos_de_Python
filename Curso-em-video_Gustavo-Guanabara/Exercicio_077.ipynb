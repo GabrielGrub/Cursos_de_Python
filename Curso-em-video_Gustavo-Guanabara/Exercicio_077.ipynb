{
 "cells": [
  {
   "cell_type": "code",
   "execution_count": 40,
   "metadata": {},
   "outputs": [
    {
     "name": "stdout",
     "output_type": "stream",
     "text": [
      "Na palavra CADERNO temos as vogais: a e o \n",
      "Na palavra ROUPA temos as vogais: a o u \n",
      "Na palavra MOCHILA temos as vogais: a i o \n",
      "Na palavra MADEIRA temos as vogais: a e i \n",
      "Na palavra AMIGO temos as vogais: a i o \n",
      "Na palavra CANECA temos as vogais: a e \n",
      "Na palavra VIAGEM temos as vogais: a e i \n",
      "Na palavra CIDADE temos as vogais: a e i \n",
      "Na palavra COMIDA temos as vogais: a i o \n",
      "Na palavra CARRO temos as vogais: a o \n",
      "Na palavra PESSOA temos as vogais: a e o \n",
      "Na palavra URSO temos as vogais: o u \n",
      "Na palavra ANIMAL temos as vogais: a i \n"
     ]
    }
   ],
   "source": [
    "# Exercício 077 - Contando vogais em tuplas\n",
    "\n",
    "lista = ('Caderno', 'Roupa', 'Mochila', 'Madeira', \n",
    "         'Amigo', 'Caneca', 'viagem', 'Cidade', \n",
    "         'Comida', 'Carro', 'Pessoa', 'Urso', 'Animal')\n",
    "\n",
    "for c in lista:\n",
    "    print(f'Na palavra {c.upper()} temos as vogais: ', end = '')\n",
    "    if 'a' in c or 'A' in c:\n",
    "        print('a', end = ' ')\n",
    "    if 'e' in c or 'E' in c:\n",
    "        print('e', end = ' ')\n",
    "    if 'i' in c or 'I' in c:\n",
    "        print('i', end = ' ')\n",
    "    if 'o' in c or 'O' in c:\n",
    "        print('o', end = ' ')\n",
    "    if 'u' in c or 'U' in c:\n",
    "        print('u', end = ' ')\n",
    "    print('')\n"
   ]
  }
 ],
 "metadata": {
  "kernelspec": {
   "display_name": "Python 3",
   "language": "python",
   "name": "python3"
  },
  "language_info": {
   "codemirror_mode": {
    "name": "ipython",
    "version": 3
   },
   "file_extension": ".py",
   "mimetype": "text/x-python",
   "name": "python",
   "nbconvert_exporter": "python",
   "pygments_lexer": "ipython3",
   "version": "3.11.3"
  },
  "orig_nbformat": 4
 },
 "nbformat": 4,
 "nbformat_minor": 2
}
