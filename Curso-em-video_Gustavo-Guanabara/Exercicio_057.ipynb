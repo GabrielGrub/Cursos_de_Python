{
 "cells": [
  {
   "cell_type": "code",
   "execution_count": 7,
   "metadata": {},
   "outputs": [
    {
     "name": "stdout",
     "output_type": "stream",
     "text": [
      "Digite um resposta valida -> \"M\" ou \"F\"\n",
      "Digite um resposta valida -> \"M\" ou \"F\"\n",
      "O sexo dessa pessoa é masculino\n"
     ]
    }
   ],
   "source": [
    "# Exercício 057 - Validação de dados\n",
    "\n",
    "s = input('Qual é o sexo dessa pessoa? -> \"M\" ou \"F\"').upper()\n",
    "\n",
    "while s != \"M\" and s != \"F\":\n",
    "    print('Digite um resposta valida -> \"M\" ou \"F\"')\n",
    "    s = input('Qual é o sexo dessa pessoa? -> \"M\" ou \"F\"').upper()\n",
    "\n",
    "if s == \"M\":\n",
    "    print('O sexo dessa pessoa é masculino')\n",
    "if s == \"F\":\n",
    "    print('O sexo dessa pessoa é feminino')\n"
   ]
  }
 ],
 "metadata": {
  "kernelspec": {
   "display_name": "Python 3",
   "language": "python",
   "name": "python3"
  },
  "language_info": {
   "codemirror_mode": {
    "name": "ipython",
    "version": 3
   },
   "file_extension": ".py",
   "mimetype": "text/x-python",
   "name": "python",
   "nbconvert_exporter": "python",
   "pygments_lexer": "ipython3",
   "version": "3.11.3"
  },
  "orig_nbformat": 4
 },
 "nbformat": 4,
 "nbformat_minor": 2
}
