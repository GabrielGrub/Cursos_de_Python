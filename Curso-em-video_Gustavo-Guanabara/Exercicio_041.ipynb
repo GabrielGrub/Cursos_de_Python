{
 "cells": [
  {
   "cell_type": "code",
   "execution_count": 4,
   "metadata": {},
   "outputs": [
    {
     "name": "stdout",
     "output_type": "stream",
     "text": [
      "Com 22 anos o atleta é MASTER\n"
     ]
    }
   ],
   "source": [
    "# Exercício 041 - Classificando atletas\n",
    "\n",
    "nascimento = int(input('Qual o ano de nascimento do atleta? '))\n",
    "idade = 2023 - nascimento\n",
    "\n",
    "if idade <= 9:\n",
    "    print(f'Com {idade} anos o atleta é MIRIM')\n",
    "elif 9 < idade <= 14:\n",
    "    print(f'Com {idade} anos o atleta é INFANTIL')\n",
    "elif 14 < idade <= 19:\n",
    "    print(f'Com {idade} anos o atleta é JUNIOR')\n",
    "elif 19 < idade <= 20:\n",
    "    print(f'Com {idade} anos o atleta é SÊNIOR')\n",
    "else:\n",
    "    print(f'Com {idade} anos o atleta é MASTER')\n"
   ]
  }
 ],
 "metadata": {
  "kernelspec": {
   "display_name": "Python 3",
   "language": "python",
   "name": "python3"
  },
  "language_info": {
   "codemirror_mode": {
    "name": "ipython",
    "version": 3
   },
   "file_extension": ".py",
   "mimetype": "text/x-python",
   "name": "python",
   "nbconvert_exporter": "python",
   "pygments_lexer": "ipython3",
   "version": "3.11.3"
  },
  "orig_nbformat": 4
 },
 "nbformat": 4,
 "nbformat_minor": 2
}
