{
 "cells": [
  {
   "cell_type": "code",
   "execution_count": 19,
   "metadata": {},
   "outputs": [
    {
     "name": "stdout",
     "output_type": "stream",
     "text": [
      "O maior número digitado foi 7 e o menor 3, a média de todos os números é 5.00\n"
     ]
    }
   ],
   "source": [
    "import statistics as es\n",
    "\n",
    "lista = []\n",
    "y = 0\n",
    "x = ''\n",
    "\n",
    "\n",
    "\n",
    "while y != \"S\":\n",
    "    x = int(input('Digite um número: '))\n",
    "    lista.append(x)\n",
    "    y = input('Digite \"S\" para obter o resultado ou outra tecla para escolher mais um número').upper()\n",
    "\n",
    "print(f'O maior número digitado foi {max(lista)} e o menor {min(lista)}, a média de todos os números é {es.mean(lista):.2f}')\n"
   ]
  }
 ],
 "metadata": {
  "kernelspec": {
   "display_name": "Python 3",
   "language": "python",
   "name": "python3"
  },
  "language_info": {
   "codemirror_mode": {
    "name": "ipython",
    "version": 3
   },
   "file_extension": ".py",
   "mimetype": "text/x-python",
   "name": "python",
   "nbconvert_exporter": "python",
   "pygments_lexer": "ipython3",
   "version": "3.11.3"
  },
  "orig_nbformat": 4
 },
 "nbformat": 4,
 "nbformat_minor": 2
}
