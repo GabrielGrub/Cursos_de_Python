{
 "cells": [
  {
   "cell_type": "code",
   "execution_count": 3,
   "metadata": {},
   "outputs": [
    {
     "name": "stdout",
     "output_type": "stream",
     "text": [
      "O número 11 é primo!\n"
     ]
    }
   ],
   "source": [
    "# Exercício 052 - Números primos\n",
    "\n",
    "numero = int(input('Escolha um número: '))\n",
    "\n",
    "if numero <= 1:\n",
    "    é_primo = False\n",
    "else:\n",
    "    é_primo = True\n",
    "    for i in range(2, numero):\n",
    "        if numero % i == 0:\n",
    "            é_primo = False\n",
    "            break\n",
    "\n",
    "if é_primo:\n",
    "    print(f'O número {numero} é primo!')\n",
    "else:\n",
    "     print(f'O número {numero} não é primo!')\n"
   ]
  }
 ],
 "metadata": {
  "kernelspec": {
   "display_name": "Python 3",
   "language": "python",
   "name": "python3"
  },
  "language_info": {
   "codemirror_mode": {
    "name": "ipython",
    "version": 3
   },
   "file_extension": ".py",
   "mimetype": "text/x-python",
   "name": "python",
   "nbconvert_exporter": "python",
   "pygments_lexer": "ipython3",
   "version": "3.11.3"
  },
  "orig_nbformat": 4
 },
 "nbformat": 4,
 "nbformat_minor": 2
}
