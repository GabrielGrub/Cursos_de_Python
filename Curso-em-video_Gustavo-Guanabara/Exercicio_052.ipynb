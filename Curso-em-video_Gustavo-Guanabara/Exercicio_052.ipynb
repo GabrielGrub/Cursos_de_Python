{
 "cells": [
  {
   "cell_type": "code",
   "execution_count": 35,
   "metadata": {},
   "outputs": [
    {
     "name": "stdout",
     "output_type": "stream",
     "text": [
      "\u001b[0;33m1 \u001b[0;031m2 \u001b[0;031m3 \u001b[0;031m4 \u001b[0;031m5 \u001b[0;031m6 \u001b[0;031m7 \u001b[0;031m8 \u001b[0;031m9 \u001b[0;031m10 \u001b[0;031m11 \u001b[0;031m12 \u001b[0;031m13 \u001b[0;031m14 \u001b[0;031m15 \u001b[0;031m16 \u001b[0;031m17 \u001b[0;031m18 \u001b[0;031m19 \u001b[0;031m20 \u001b[0;031m21 \u001b[0;031m22 \u001b[0;031m23 \u001b[0;031m24 \u001b[0;031m25 \u001b[0;031m26 \u001b[0;031m27 \u001b[0;031m28 \u001b[0;031m29 \u001b[0;031m30 \u001b[0;33m31 \n",
      "\n",
      "O número 31 foi divisível 2 vezes. Por isso ele é um número primo!\n"
     ]
    }
   ],
   "source": [
    "# Exercício 052 - Números primos\n",
    "\n",
    "numero = int(input('Escolha um número: '))\n",
    "cont = 0\n",
    "\n",
    "for i in range(1, numero+1):\n",
    "        if numero % i == 0:\n",
    "            print(f'\\033[0;33m{i}', end=' ')\n",
    "            cont += 1\n",
    "        else:\n",
    "            print(f'\\033[0;031m{i}', end=' ')\n",
    "\n",
    "print(f'\\n\\nO número {numero} foi divisível {cont} vezes. ', end='')\n",
    "\n",
    "if cont == 2:\n",
    "    print('Por isso ele é um número primo!')\n",
    "else:\n",
    "    print('Por isso ele NÃO é um número primo!')\n"
   ]
  }
 ],
 "metadata": {
  "kernelspec": {
   "display_name": "Python 3",
   "language": "python",
   "name": "python3"
  },
  "language_info": {
   "codemirror_mode": {
    "name": "ipython",
    "version": 3
   },
   "file_extension": ".py",
   "mimetype": "text/x-python",
   "name": "python",
   "nbconvert_exporter": "python",
   "pygments_lexer": "ipython3",
   "version": "3.11.3"
  },
  "orig_nbformat": 4
 },
 "nbformat": 4,
 "nbformat_minor": 2
}
