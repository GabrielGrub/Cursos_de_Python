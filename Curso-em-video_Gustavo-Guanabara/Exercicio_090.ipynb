{
 "cells": [
  {
   "cell_type": "code",
   "execution_count": 2,
   "metadata": {},
   "outputs": [
    {
     "name": "stdout",
     "output_type": "stream",
     "text": [
      "Nome é igual a Gabriel\n",
      "Média é igual a 7.5\n",
      "Situação é igual a APROVADO!\n"
     ]
    }
   ],
   "source": [
    "# Exercício 090 - Dicionários em Python\n",
    "\n",
    "aluno = dict()\n",
    "\n",
    "aluno['nome'] = str(input('Digite o nome do aluno: '))\n",
    "aluno['media'] = float(input('Digite a média do aluno: '))\n",
    "if aluno['media'] >= 5:\n",
    "    aluno['situacao'] = \"APROVADO\"\n",
    "elif aluno['media'] >= 3:\n",
    "    aluno['situacao'] = \"RECUPERAÇÃO\"\n",
    "else:\n",
    "    aluno['situacao'] = \"REPROVADO\"\n",
    "\n",
    "print(f'Nome é igual a {aluno[\"nome\"]}\\nMédia é igual a {aluno[\"media\"]}\\nSituação é igual a {aluno[\"situacao\"]}!')\n"
   ]
  }
 ],
 "metadata": {
  "kernelspec": {
   "display_name": "Python 3",
   "language": "python",
   "name": "python3"
  },
  "language_info": {
   "codemirror_mode": {
    "name": "ipython",
    "version": 3
   },
   "file_extension": ".py",
   "mimetype": "text/x-python",
   "name": "python",
   "nbconvert_exporter": "python",
   "pygments_lexer": "ipython3",
   "version": "3.11.3"
  },
  "orig_nbformat": 4
 },
 "nbformat": 4,
 "nbformat_minor": 2
}
