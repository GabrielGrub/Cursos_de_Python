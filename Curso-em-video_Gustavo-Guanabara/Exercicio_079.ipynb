{
 "cells": [
  {
   "cell_type": "code",
   "execution_count": 6,
   "metadata": {},
   "outputs": [
    {
     "name": "stdout",
     "output_type": "stream",
     "text": [
      "Valor adicionado com sucesso!\n",
      "Valor adicionado com sucesso!\n",
      "Valor adicionado com sucesso!\n",
      "Valor adicionado com sucesso!\n",
      "Valor duplicado! Não vou adicionar!\n",
      "Valor duplicado! Não vou adicionar!\n",
      "Valor adicionado com sucesso!\n",
      "Valor adicionado com sucesso!\n",
      "Valor adicionado com sucesso!\n",
      "Os valores unicos digitados em ordem crescente são: [4, 5, 6, 9, 12, 32, 89]\n"
     ]
    }
   ],
   "source": [
    "# Exercício 079 - Valores únicos em uma lista\n",
    "\n",
    "lista = []\n",
    "\n",
    "while True:\n",
    "    x = int(input('Digite um número: '))\n",
    "    if x not in lista:\n",
    "        lista.append(x)\n",
    "        print('Valor adicionado com sucesso!')\n",
    "    else:\n",
    "        print('Valor duplicado! Não vou adicionar!')\n",
    "    resp =  input('Se quiser parar digite: \"N\"').upper()\n",
    "    if 'N' in resp:\n",
    "            break\n",
    "\n",
    "print(f'Os valores unicos digitados em ordem crescente são: {sorted(lista)}')\n"
   ]
  }
 ],
 "metadata": {
  "kernelspec": {
   "display_name": "Python 3",
   "language": "python",
   "name": "python3"
  },
  "language_info": {
   "codemirror_mode": {
    "name": "ipython",
    "version": 3
   },
   "file_extension": ".py",
   "mimetype": "text/x-python",
   "name": "python",
   "nbconvert_exporter": "python",
   "pygments_lexer": "ipython3",
   "version": "3.11.3"
  },
  "orig_nbformat": 4
 },
 "nbformat": 4,
 "nbformat_minor": 2
}
