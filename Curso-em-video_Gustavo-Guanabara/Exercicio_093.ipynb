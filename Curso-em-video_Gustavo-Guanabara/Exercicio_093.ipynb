{
 "cells": [
  {
   "cell_type": "code",
   "execution_count": 9,
   "metadata": {},
   "outputs": [
    {
     "name": "stdout",
     "output_type": "stream",
     "text": [
      "O jogador Gabriel jogou 5 partidas:\n",
      "   Na 1º partida, fez 1 gols.\n",
      "   Na 2º partida, fez 2 gols.\n",
      "   Na 3º partida, fez 0 gols.\n",
      "   Na 4º partida, fez 2 gols.\n",
      "   Na 5º partida, fez 3 gols.\n",
      "\n",
      "Cadastro concluído!\n",
      "\n",
      "{'Nome': 'Gabriel', 'Gols': [1, 2, 0, 2, 3], 'Total': 8}\n"
     ]
    }
   ],
   "source": [
    "# Exercício 093 - Cadastro de jogador de futebol\n",
    "\n",
    "cadastro = dict()\n",
    "gols = []\n",
    "total_gols = 0\n",
    "\n",
    "nome = str(input('Nome do jogador: '))\n",
    "partidas = int(input('Número de partidas: '))\n",
    "\n",
    "print(f'O jogador {nome} jogou {partidas} partidas:')\n",
    "\n",
    "for j in range(0, partidas):\n",
    "    jogo = int(input(f'Quantos gols na {j+1}º partida'))\n",
    "    print(f'   Na {j+1}º partida, fez {jogo} gols.')\n",
    "    total_gols +=jogo\n",
    "    gols.append(jogo)\n",
    "\n",
    "cadastro['Nome'] = nome\n",
    "cadastro['Gols'] = gols\n",
    "cadastro['Total'] = total_gols\n",
    "\n",
    "print(f'\\nCadastro concluído!\\n\\n{cadastro}')\n"
   ]
  }
 ],
 "metadata": {
  "kernelspec": {
   "display_name": "Python 3",
   "language": "python",
   "name": "python3"
  },
  "language_info": {
   "codemirror_mode": {
    "name": "ipython",
    "version": 3
   },
   "file_extension": ".py",
   "mimetype": "text/x-python",
   "name": "python",
   "nbconvert_exporter": "python",
   "pygments_lexer": "ipython3",
   "version": "3.11.3"
  },
  "orig_nbformat": 4
 },
 "nbformat": 4,
 "nbformat_minor": 2
}
