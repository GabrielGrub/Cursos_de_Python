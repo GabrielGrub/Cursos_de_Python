{
 "cells": [
  {
   "cell_type": "code",
   "execution_count": 4,
   "metadata": {},
   "outputs": [
    {
     "name": "stdout",
     "output_type": "stream",
     "text": [
      "Com o IMC 20.72 você está com o peso ideal\n"
     ]
    }
   ],
   "source": [
    "# Exercício 043 - Índice de massa corporal\n",
    "\n",
    "peso = float(input('Digite o seu peso: '))\n",
    "altura = float(input('Digite a sua altura: '))\n",
    "\n",
    "imc = peso/altura**2\n",
    "\n",
    "if imc < 18.5:\n",
    "    print(f'Com o IMC {imc:.2f}, você está abaixo do peso')\n",
    "elif 18.5 <= imc < 25:\n",
    "    print(f'Com o IMC {imc:.2f}, você está com o peso ideal')\n",
    "elif 25 <= imc < 30:\n",
    "    print(f'Com o IMC {imc:.2f}, você está com sobrepeso')\n",
    "elif 30 <= imc < 40:\n",
    "    print(f'Com o IMC {imc:.2f}, você está com obesidade')\n",
    "else:\n",
    "    print(f'Com o IMC {imc:.2f}, você está com obesidade mórbida')\n"
   ]
  }
 ],
 "metadata": {
  "kernelspec": {
   "display_name": "Python 3",
   "language": "python",
   "name": "python3"
  },
  "language_info": {
   "codemirror_mode": {
    "name": "ipython",
    "version": 3
   },
   "file_extension": ".py",
   "mimetype": "text/x-python",
   "name": "python",
   "nbconvert_exporter": "python",
   "pygments_lexer": "ipython3",
   "version": "3.11.3"
  },
  "orig_nbformat": 4
 },
 "nbformat": 4,
 "nbformat_minor": 2
}
