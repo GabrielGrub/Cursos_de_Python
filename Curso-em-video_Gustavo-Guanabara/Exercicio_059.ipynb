{
 "cells": [
  {
   "cell_type": "code",
   "execution_count": 6,
   "metadata": {},
   "outputs": [
    {
     "name": "stdout",
     "output_type": "stream",
     "text": [
      "MENU\n",
      "\n",
      "[1] - SOMAR \n",
      "[2] - MULTIPLICAR \n",
      "[3] - MAIOR \n",
      "[4] - NOVOS NÚMEROS \n",
      "[5] - SAIR DO PROGRAMA \n",
      "\n",
      "A soma de 5.0 e 7.0 é 12.0\n",
      "A multiplicação de 5.0 por 7.0 é 35.0\n",
      "Entre 5.0 e 7.0 o maior valor é 7.0\n",
      "A soma de 5.0 e 6.0 é 11.0\n",
      "A multiplicação de 5.0 por 6.0 é 30.0\n",
      "Entre 5.0 e 6.0 o maior valor é 6.0\n",
      "Programa encerrado!\n"
     ]
    }
   ],
   "source": [
    "# Exercício 059 - Criando um menu de opções\n",
    "\n",
    "n1 = float(input('Escolha o primeiro número: '))\n",
    "n2 = float(input('Escolha o segundo número: '))\n",
    "\n",
    "print('MENU\\n\\n[1] - SOMAR \\n[2] - MULTIPLICAR \\n[3] - MAIOR \\n[4] - NOVOS NÚMEROS \\n[5] - SAIR DO PROGRAMA \\n')\n",
    "\n",
    "x = int(input('Escolha uma opção? '))\n",
    "\n",
    "while x != 5:\n",
    "    if x == 1:\n",
    "        print(f'A soma de {n1} e {n2} é {n1+n2}')\n",
    "    if x == 2:\n",
    "        print(f'A multiplicação de {n1} por {n2} é {n1*n2}')\n",
    "    if x == 3:\n",
    "        print(f'Entre {n1} e {n2} o maior valor é {max(n1,n2)}')\n",
    "    if x == 4:\n",
    "        n1 = float(input('Escolha o primeiro número: '))\n",
    "        n2 = float(input('Escolha o segundo número: '))\n",
    "    x = int(input('Escolha novamente uma opção? '))\n",
    "\n",
    "print('Programa encerrado!')\n"
   ]
  }
 ],
 "metadata": {
  "kernelspec": {
   "display_name": "Python 3",
   "language": "python",
   "name": "python3"
  },
  "language_info": {
   "codemirror_mode": {
    "name": "ipython",
    "version": 3
   },
   "file_extension": ".py",
   "mimetype": "text/x-python",
   "name": "python",
   "nbconvert_exporter": "python",
   "pygments_lexer": "ipython3",
   "version": "3.11.3"
  },
  "orig_nbformat": 4
 },
 "nbformat": 4,
 "nbformat_minor": 2
}
