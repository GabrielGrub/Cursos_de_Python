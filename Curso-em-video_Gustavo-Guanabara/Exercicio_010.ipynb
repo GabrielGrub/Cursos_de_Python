{
 "cells": [
  {
   "cell_type": "code",
   "execution_count": 4,
   "metadata": {},
   "outputs": [
    {
     "name": "stdout",
     "output_type": "stream",
     "text": [
      "Você pode comprar U$36.70 com esses R$120.00\n"
     ]
    }
   ],
   "source": [
    "# Exercício 010 - Conversor de moedas\n",
    "\n",
    "reais = float(input('Quantos Reais você tem na carteira? R$'))\n",
    "print(f'Você pode comprar U${reais/3.27:.2f} com esses R${reais:.2f}')\n"
   ]
  }
 ],
 "metadata": {
  "kernelspec": {
   "display_name": "Python 3",
   "language": "python",
   "name": "python3"
  },
  "language_info": {
   "codemirror_mode": {
    "name": "ipython",
    "version": 3
   },
   "file_extension": ".py",
   "mimetype": "text/x-python",
   "name": "python",
   "nbconvert_exporter": "python",
   "pygments_lexer": "ipython3",
   "version": "3.11.3"
  },
  "orig_nbformat": 4
 },
 "nbformat": 4,
 "nbformat_minor": 2
}
