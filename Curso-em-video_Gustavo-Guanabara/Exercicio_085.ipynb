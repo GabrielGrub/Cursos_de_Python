{
 "cells": [
  {
   "cell_type": "code",
   "execution_count": 4,
   "metadata": {},
   "outputs": [
    {
     "name": "stdout",
     "output_type": "stream",
     "text": [
      "Os valores ímpares digitados em ordem crescente são: [1, 3, 5, 7]\n",
      "Os valores pares digitados em ordem crescente são: [2, 4, 6]\n"
     ]
    }
   ],
   "source": [
    "# Exercício 085 - Lista com pares e ímpares\n",
    "\n",
    "lista = [[],[]]\n",
    "\n",
    "for c in range(0, 7):\n",
    "    valor = int(input(f'Digite o {c+1}º número inteiro: '))\n",
    "    if valor % 2 == 0:\n",
    "        lista[1].append(valor)\n",
    "    else:\n",
    "        lista[0].append(valor)\n",
    "\n",
    "print(f'Os valores ímpares digitados em ordem crescente são: {sorted(lista[0])}')\n",
    "print(f'Os valores pares digitados em ordem crescente são: {sorted(lista[1])}')\n"
   ]
  }
 ],
 "metadata": {
  "kernelspec": {
   "display_name": "Python 3",
   "language": "python",
   "name": "python3"
  },
  "language_info": {
   "codemirror_mode": {
    "name": "ipython",
    "version": 3
   },
   "file_extension": ".py",
   "mimetype": "text/x-python",
   "name": "python",
   "nbconvert_exporter": "python",
   "pygments_lexer": "ipython3",
   "version": "3.11.3"
  },
  "orig_nbformat": 4
 },
 "nbformat": 4,
 "nbformat_minor": 2
}
