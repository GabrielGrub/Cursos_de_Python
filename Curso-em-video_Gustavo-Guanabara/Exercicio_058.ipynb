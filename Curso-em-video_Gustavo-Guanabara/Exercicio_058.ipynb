{
 "cells": [
  {
   "cell_type": "code",
   "execution_count": 2,
   "metadata": {},
   "outputs": [
    {
     "name": "stdout",
     "output_type": "stream",
     "text": [
      "Ops, um pouco menor, tente novamente!\n",
      "Ops, um pouco maior, tente novamente!\n",
      "Parabéns! Você acertou na 3 tentativa! \n"
     ]
    }
   ],
   "source": [
    "# Exercício 058 - Jogo da adivinhação v2.0\n",
    "\n",
    "import random\n",
    "\n",
    "c = 0\n",
    "x = random.randrange(10)\n",
    "numero = int(input('Escolha um número de 0 a 10: '))\n",
    "\n",
    "while x != numero:\n",
    "    if x > numero:\n",
    "        print(f'Ops, um pouco maior, tente novamente!')\n",
    "    if x < numero:\n",
    "        print(f'Ops, um pouco menor, tente novamente!')\n",
    "    numero = int(input('Escolha novamente um número de 0 a 10: '))\n",
    "    c += 1\n",
    "\n",
    "if x == numero:\n",
    "    print(f'Parabéns! Você acertou na {c+1} tentativa! ')\n"
   ]
  }
 ],
 "metadata": {
  "kernelspec": {
   "display_name": "Python 3",
   "language": "python",
   "name": "python3"
  },
  "language_info": {
   "codemirror_mode": {
    "name": "ipython",
    "version": 3
   },
   "file_extension": ".py",
   "mimetype": "text/x-python",
   "name": "python",
   "nbconvert_exporter": "python",
   "pygments_lexer": "ipython3",
   "version": "3.11.3"
  },
  "orig_nbformat": 4
 },
 "nbformat": 4,
 "nbformat_minor": 2
}
