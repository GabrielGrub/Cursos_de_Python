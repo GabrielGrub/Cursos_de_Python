{
 "cells": [
  {
   "cell_type": "code",
   "execution_count": 4,
   "metadata": {},
   "outputs": [
    {
     "name": "stdout",
     "output_type": "stream",
     "text": [
      "O triangulo retângulo de cateto oposto: 3.0 e cateto adjacente: 4.0 tem a hipotenusa igual a 5.0\n"
     ]
    }
   ],
   "source": [
    "# Exercício 017 - Catetos e Hipotenusa\n",
    "\n",
    "import math\n",
    "\n",
    "cat_oposto = float(input('Cateto oposto: '))\n",
    "cat_adjacente = float(input('Cateto adjacente: '))\n",
    "\n",
    "print(f'O triangulo retângulo de cateto oposto: {cat_oposto} e cateto adjacente: {cat_adjacente} tem a hipotenusa igual a {math.hypot(cat_oposto,cat_adjacente)}')\n"
   ]
  }
 ],
 "metadata": {
  "kernelspec": {
   "display_name": "Python 3",
   "language": "python",
   "name": "python3"
  },
  "language_info": {
   "codemirror_mode": {
    "name": "ipython",
    "version": 3
   },
   "file_extension": ".py",
   "mimetype": "text/x-python",
   "name": "python",
   "nbconvert_exporter": "python",
   "pygments_lexer": "ipython3",
   "version": "3.11.3"
  },
  "orig_nbformat": 4
 },
 "nbformat": 4,
 "nbformat_minor": 2
}
