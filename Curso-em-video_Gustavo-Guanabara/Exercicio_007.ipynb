{
 "cells": [
  {
   "cell_type": "code",
   "execution_count": 3,
   "metadata": {},
   "outputs": [
    {
     "name": "stdout",
     "output_type": "stream",
     "text": [
      "A média das notas é: 5.0\n"
     ]
    }
   ],
   "source": [
    "# Exercício 007 - Média aritmética\n",
    "\n",
    "nota_1 = float(input('Primeira nota: '))\n",
    "nota_2 = float(input('Segunda nota: '))\n",
    "print(f'A média das notas é: {(nota_1 + nota_2)/2}')\n"
   ]
  }
 ],
 "metadata": {
  "kernelspec": {
   "display_name": "Python 3",
   "language": "python",
   "name": "python3"
  },
  "language_info": {
   "codemirror_mode": {
    "name": "ipython",
    "version": 3
   },
   "file_extension": ".py",
   "mimetype": "text/x-python",
   "name": "python",
   "nbconvert_exporter": "python",
   "pygments_lexer": "ipython3",
   "version": "3.11.3"
  },
  "orig_nbformat": 4
 },
 "nbformat": 4,
 "nbformat_minor": 2
}
