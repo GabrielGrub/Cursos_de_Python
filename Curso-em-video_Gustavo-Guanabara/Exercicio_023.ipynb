{
 "cells": [
  {
   "cell_type": "code",
   "execution_count": 41,
   "metadata": {},
   "outputs": [
    {
     "name": "stdout",
     "output_type": "stream",
     "text": [
      "Analisando o número 1234\n",
      "unidade: 4 \n",
      "dezena: 3 \n",
      "centena 2 \n",
      "milhar 1\n"
     ]
    }
   ],
   "source": [
    "# Exercício 023 - Separando dígitos em um número\n",
    "\n",
    "while True:\n",
    "\n",
    "    numero = int(input('Digite um número entre 0 e 9999: '))\n",
    "    if 0 <= numero <=9999:\n",
    "        num = str(numero)\n",
    "        print(f'Analisando o número {num}')\n",
    "        print(f\"unidade: {num[-1]} \\ndezena: {num[-2]} \\ncentena {num[-3]} \\nmilhar {num[-4]}\")\n",
    "        break\n",
    "    else:\n",
    "        print('Digite um número valido!')\n"
   ]
  }
 ],
 "metadata": {
  "kernelspec": {
   "display_name": "Python 3",
   "language": "python",
   "name": "python3"
  },
  "language_info": {
   "codemirror_mode": {
    "name": "ipython",
    "version": 3
   },
   "file_extension": ".py",
   "mimetype": "text/x-python",
   "name": "python",
   "nbconvert_exporter": "python",
   "pygments_lexer": "ipython3",
   "version": "3.11.3"
  },
  "orig_nbformat": 4
 },
 "nbformat": 4,
 "nbformat_minor": 2
}
