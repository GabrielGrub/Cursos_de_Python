{
 "cells": [
  {
   "cell_type": "code",
   "execution_count": 9,
   "metadata": {},
   "outputs": [
    {
     "name": "stdout",
     "output_type": "stream",
     "text": [
      "O número 0.0 é par!\n"
     ]
    }
   ],
   "source": [
    "# Exercício 030 - Par ou ímpar?\n",
    "\n",
    "numero = float(input('Escolha um número: '))\n",
    "\n",
    "if numero % 2 == 0:\n",
    "    print(f'O número {numero} é par!')\n",
    "else:\n",
    "    print(f'O número {numero} é ímpar!')\n"
   ]
  }
 ],
 "metadata": {
  "kernelspec": {
   "display_name": "Python 3",
   "language": "python",
   "name": "python3"
  },
  "language_info": {
   "codemirror_mode": {
    "name": "ipython",
    "version": 3
   },
   "file_extension": ".py",
   "mimetype": "text/x-python",
   "name": "python",
   "nbconvert_exporter": "python",
   "pygments_lexer": "ipython3",
   "version": "3.11.3"
  },
  "orig_nbformat": 4
 },
 "nbformat": 4,
 "nbformat_minor": 2
}
