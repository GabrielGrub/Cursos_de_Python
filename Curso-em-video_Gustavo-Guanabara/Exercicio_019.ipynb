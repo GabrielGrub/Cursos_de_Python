{
 "cells": [
  {
   "cell_type": "code",
   "execution_count": 5,
   "metadata": {},
   "outputs": [
    {
     "name": "stdout",
     "output_type": "stream",
     "text": [
      "O nome sorteado foi: Rafaela\n"
     ]
    }
   ],
   "source": [
    "# Exercício 019 - Sorteando uma item na lista\n",
    "\n",
    "import random\n",
    "\n",
    "a = str(input('Nome do primeiro aluno: '))\n",
    "b = str(input('Nome do segundo aluno: '))\n",
    "c = str(input('Nome do terceiro aluno: '))\n",
    "d = str(input('Nome do quarto aluno: '))\n",
    "e = str(input('Nome do quinto aluno: '))\n",
    "f = str(input('Nome do sexto aluno: '))\n",
    "\n",
    "lista = [a,b,c,d,e,f]\n",
    "\n",
    "print(f'O nome sorteado foi: {random.choice(lista)}')\n"
   ]
  }
 ],
 "metadata": {
  "kernelspec": {
   "display_name": "Python 3",
   "language": "python",
   "name": "python3"
  },
  "language_info": {
   "codemirror_mode": {
    "name": "ipython",
    "version": 3
   },
   "file_extension": ".py",
   "mimetype": "text/x-python",
   "name": "python",
   "nbconvert_exporter": "python",
   "pygments_lexer": "ipython3",
   "version": "3.11.3"
  },
  "orig_nbformat": 4
 },
 "nbformat": 4,
 "nbformat_minor": 2
}
