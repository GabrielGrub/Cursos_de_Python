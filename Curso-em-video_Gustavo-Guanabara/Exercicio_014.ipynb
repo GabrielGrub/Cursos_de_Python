{
 "cells": [
  {
   "cell_type": "code",
   "execution_count": 4,
   "metadata": {},
   "outputs": [
    {
     "name": "stdout",
     "output_type": "stream",
     "text": [
      "A temperatura de 31.5ºC equivale a 88.7ºF e 304.5 K\n"
     ]
    }
   ],
   "source": [
    "# Exercício 014 - Conversor de temperaturas\n",
    "\n",
    "c = float(input('Informe a temperatura em ºC: '))\n",
    "print(f'A temperatura de {c}ºC equivale a {c*1.8+32}ºF e {c+273} K')\n"
   ]
  }
 ],
 "metadata": {
  "kernelspec": {
   "display_name": "Python 3",
   "language": "python",
   "name": "python3"
  },
  "language_info": {
   "codemirror_mode": {
    "name": "ipython",
    "version": 3
   },
   "file_extension": ".py",
   "mimetype": "text/x-python",
   "name": "python",
   "nbconvert_exporter": "python",
   "pygments_lexer": "ipython3",
   "version": "3.11.3"
  },
  "orig_nbformat": 4
 },
 "nbformat": 4,
 "nbformat_minor": 2
}
