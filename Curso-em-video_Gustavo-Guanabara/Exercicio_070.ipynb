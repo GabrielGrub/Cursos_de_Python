{
 "cells": [
  {
   "cell_type": "code",
   "execution_count": 14,
   "metadata": {},
   "outputs": [
    {
     "name": "stdout",
     "output_type": "stream",
     "text": [
      "--> LOJINHA DO FEA.dev <--\n",
      "\n",
      "O total da compra foi R$3881.00\n",
      "Foi comprado 1 produto que custa mais de R$1000\n",
      "A Caneta foi o produto mais barato e custou R$1.00\n",
      "\n",
      "--> VOLTE SEMPRE! <--\n",
      "\n"
     ]
    }
   ],
   "source": [
    "# Exercício 070 - Estatística de produtos\n",
    "\n",
    "print('--> LOJINHA DO FEA.dev <--\\n')\n",
    "\n",
    "total_da_compra = mais_de_1000 = x = 0\n",
    "\n",
    "while True:\n",
    "    a = input('Qual nome do produto? ').strip().capitalize()\n",
    "    b = float(input('Qual o preço do produto R$ ?' ))\n",
    "    total_da_compra += b\n",
    "    if b > 1000:\n",
    "        mais_de_1000 += 1\n",
    "    if x == 0:\n",
    "        x = b\n",
    "    if b < x:\n",
    "        mais_barato  = a\n",
    "        mais_barato_preco = b\n",
    "        x = b\n",
    "    c = ' '\n",
    "    while c not in 'SN':\n",
    "        c = input('Quer comprar mais algum produto? [S/N]').strip().upper()\n",
    "    if c == 'N':\n",
    "        break\n",
    "\n",
    "print(f'O total da compra foi R${total_da_compra:.2f}')\n",
    "print(f'Foi comprado {mais_de_1000} produto que custa mais de R$1000')\n",
    "print(f'A {mais_barato} foi o produto mais barato e custou R${mais_barato_preco:.2f}')\n",
    "\n",
    "print('\\n--> VOLTE SEMPRE! <--\\n')\n"
   ]
  }
 ],
 "metadata": {
  "kernelspec": {
   "display_name": "Python 3",
   "language": "python",
   "name": "python3"
  },
  "language_info": {
   "codemirror_mode": {
    "name": "ipython",
    "version": 3
   },
   "file_extension": ".py",
   "mimetype": "text/x-python",
   "name": "python",
   "nbconvert_exporter": "python",
   "pygments_lexer": "ipython3",
   "version": "3.11.3"
  },
  "orig_nbformat": 4
 },
 "nbformat": 4,
 "nbformat_minor": 2
}
