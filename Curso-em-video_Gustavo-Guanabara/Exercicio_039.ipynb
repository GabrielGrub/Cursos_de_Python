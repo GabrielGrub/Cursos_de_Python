{
 "cells": [
  {
   "cell_type": "code",
   "execution_count": 12,
   "metadata": {},
   "outputs": [
    {
     "name": "stdout",
     "output_type": "stream",
     "text": [
      "Quem nasceu em 2007 tem 16 anos em 2023\n",
      "Falta 2 anos para o seu alistamento\n"
     ]
    }
   ],
   "source": [
    "# Exercício 039 - Alistamento Militar\n",
    "\n",
    "ano = int(input('Qual o ano do seu nascimento? '))\n",
    "idade = 2023 - ano\n",
    "\n",
    "print(f'Quem nasceu em {ano} tem {idade} anos em 2023')\n",
    "\n",
    "if idade > 18:\n",
    "    print(f'Já se passou {idade - 18} anos do tempo do seu alistamento')\n",
    "elif idade < 18:\n",
    "    print(f'Falta {18 - idade} anos para o seu alistamento')\n",
    "else:\n",
    "    print('É a hora de você se alistar!')\n"
   ]
  }
 ],
 "metadata": {
  "kernelspec": {
   "display_name": "Python 3",
   "language": "python",
   "name": "python3"
  },
  "language_info": {
   "codemirror_mode": {
    "name": "ipython",
    "version": 3
   },
   "file_extension": ".py",
   "mimetype": "text/x-python",
   "name": "python",
   "nbconvert_exporter": "python",
   "pygments_lexer": "ipython3",
   "version": "3.11.3"
  },
  "orig_nbformat": 4
 },
 "nbformat": 4,
 "nbformat_minor": 2
}
