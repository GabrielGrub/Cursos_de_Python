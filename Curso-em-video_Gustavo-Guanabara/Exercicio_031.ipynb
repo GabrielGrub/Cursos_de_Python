{
 "cells": [
  {
   "cell_type": "code",
   "execution_count": 6,
   "metadata": {},
   "outputs": [
    {
     "name": "stdout",
     "output_type": "stream",
     "text": [
      "Digite uma quilometragem valida!\n"
     ]
    }
   ],
   "source": [
    "# Exercício 031 - Custo da viagem\n",
    "\n",
    "km = float(input('Qual a distância da viagem em Km? '))\n",
    "\n",
    "if 0 < km <= 200:\n",
    "    print(f'O preço da passagem para uma viagem de {km}Km é R${km*0.5:.2f}')\n",
    "elif km <= 0:\n",
    "    print(f'Digite uma quilometragem valida!')\n",
    "else:\n",
    "    print(f'O preço da passagem para uma viagem de {km}km é R${km*0.45:.2f}')\n"
   ]
  }
 ],
 "metadata": {
  "kernelspec": {
   "display_name": "Python 3",
   "language": "python",
   "name": "python3"
  },
  "language_info": {
   "codemirror_mode": {
    "name": "ipython",
    "version": 3
   },
   "file_extension": ".py",
   "mimetype": "text/x-python",
   "name": "python",
   "nbconvert_exporter": "python",
   "pygments_lexer": "ipython3",
   "version": "3.11.3"
  },
  "orig_nbformat": 4
 },
 "nbformat": 4,
 "nbformat_minor": 2
}
