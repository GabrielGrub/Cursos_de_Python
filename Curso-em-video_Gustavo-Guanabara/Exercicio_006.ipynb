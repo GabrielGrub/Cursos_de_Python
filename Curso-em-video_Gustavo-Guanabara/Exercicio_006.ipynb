{
 "cells": [
  {
   "cell_type": "code",
   "execution_count": 6,
   "metadata": {},
   "outputs": [
    {
     "name": "stdout",
     "output_type": "stream",
     "text": [
      "O número escolhido foi o 9.0. O seu dobro é 18.0, o seu triplo é 27.0 e sua raiz é 3.0\n"
     ]
    }
   ],
   "source": [
    "# Exercício 006 - Dobro, triplo e raiz quadrada\n",
    "\n",
    "n = float(input('Digite um número:'))\n",
    "print(f'O número escolhido foi o {n}. O seu dobro é {n*2}, o seu triplo é {n*3} e sua raiz é {n**(1/2)}')\n"
   ]
  }
 ],
 "metadata": {
  "kernelspec": {
   "display_name": "Python 3",
   "language": "python",
   "name": "python3"
  },
  "language_info": {
   "codemirror_mode": {
    "name": "ipython",
    "version": 3
   },
   "file_extension": ".py",
   "mimetype": "text/x-python",
   "name": "python",
   "nbconvert_exporter": "python",
   "pygments_lexer": "ipython3",
   "version": "3.11.3"
  },
  "orig_nbformat": 4
 },
 "nbformat": 4,
 "nbformat_minor": 2
}
