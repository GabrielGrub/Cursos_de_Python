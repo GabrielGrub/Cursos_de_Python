{
 "cells": [
  {
   "cell_type": "code",
   "execution_count": 4,
   "metadata": {},
   "outputs": [
    {
     "name": "stdout",
     "output_type": "stream",
     "text": [
      "A soma dos 10 números deu 50\n"
     ]
    }
   ],
   "source": [
    "# Exercício 066 - Vários números com flag\n",
    "\n",
    "c = 0\n",
    "x = 0\n",
    "\n",
    "while True:\n",
    "    n = int(input('Digite um valor (999 para parar)'))\n",
    "    if n == 999:\n",
    "        break\n",
    "    c += 1\n",
    "    x += n\n",
    "\n",
    "print(f'A soma dos {c} números deu {x}!')\n"
   ]
  }
 ],
 "metadata": {
  "kernelspec": {
   "display_name": "Python 3",
   "language": "python",
   "name": "python3"
  },
  "language_info": {
   "codemirror_mode": {
    "name": "ipython",
    "version": 3
   },
   "file_extension": ".py",
   "mimetype": "text/x-python",
   "name": "python",
   "nbconvert_exporter": "python",
   "pygments_lexer": "ipython3",
   "version": "3.11.3"
  },
  "orig_nbformat": 4
 },
 "nbformat": 4,
 "nbformat_minor": 2
}
