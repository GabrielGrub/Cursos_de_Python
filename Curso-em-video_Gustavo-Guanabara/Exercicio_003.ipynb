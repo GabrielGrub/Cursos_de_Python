{
 "cells": [
  {
   "cell_type": "code",
   "execution_count": 4,
   "metadata": {},
   "outputs": [
    {
     "name": "stdout",
     "output_type": "stream",
     "text": [
      "A soma é: 15.0\n",
      "A soma de 6.0 e 9.0 vale 15.0\n"
     ]
    }
   ],
   "source": [
    "# Exercício 003 - Somando dois números\n",
    "\n",
    "nº1 = float(input('Digite um número'))\n",
    "nº2 = float(input('Digite um número'))\n",
    "soma = nº1 + nº2\n",
    "\n",
    "print(f'A soma é: {soma}')\n",
    "\n",
    "# Extra\n",
    "print(f'A soma de {nº1} e {nº2} vale {soma}')\n"
   ]
  }
 ],
 "metadata": {
  "kernelspec": {
   "display_name": "Python 3",
   "language": "python",
   "name": "python3"
  },
  "language_info": {
   "codemirror_mode": {
    "name": "ipython",
    "version": 3
   },
   "file_extension": ".py",
   "mimetype": "text/x-python",
   "name": "python",
   "nbconvert_exporter": "python",
   "pygments_lexer": "ipython3",
   "version": "3.11.3"
  },
  "orig_nbformat": 4
 },
 "nbformat": 4,
 "nbformat_minor": 2
}
