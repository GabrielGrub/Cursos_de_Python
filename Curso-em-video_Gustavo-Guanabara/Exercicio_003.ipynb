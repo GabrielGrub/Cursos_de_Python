{
 "cells": [
  {
   "cell_type": "code",
   "execution_count": null,
   "metadata": {},
   "outputs": [],
   "source": [
    "# Exercício 003\n",
    "\n",
    "nº1 = float(input('Digite um número'))\n",
    "nº2 = float(input('Digite um número'))\n",
    "print(f'A soma é: {nº1 + nº2}')\n"
   ]
  }
 ],
 "metadata": {
  "language_info": {
   "name": "python"
  },
  "orig_nbformat": 4
 },
 "nbformat": 4,
 "nbformat_minor": 2
}
