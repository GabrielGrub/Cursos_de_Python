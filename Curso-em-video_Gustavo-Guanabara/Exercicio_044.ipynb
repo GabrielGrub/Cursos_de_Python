{
 "cells": [
  {
   "cell_type": "code",
   "execution_count": 23,
   "metadata": {},
   "outputs": [
    {
     "name": "stdout",
     "output_type": "stream",
     "text": [
      "FORMAS DE PAGAMENTO \n",
      "\n",
      "[1] - Á vista dinheiro/cheque \n",
      "[2] - Á vista cartão \n",
      "[3] - 2x no cartão \n",
      "[4] - 3x ou mais no cartão \n",
      "\n",
      "Pagando á vista a sua compra de R$1000.00 vai custar R$900.00\n"
     ]
    }
   ],
   "source": [
    "# Exercício 044 - Gerenciador de pagamentos\n",
    "\n",
    "preço = float(input('Preço das compras: '))\n",
    "\n",
    "print('FORMAS DE PAGAMENTO \\n\\n[1] - Á vista dinheiro/cheque \\n[2] - Á vista cartão \\n[3] - 2x no cartão \\n[4] - 3x ou mais no cartão \\n')\n",
    "\n",
    "x = int(input('Qual a opção de pagamento? '))\n",
    "\n",
    "if x != 1 and x != 2 and x != 3 and x != 4:\n",
    "    print('Escolha uma opção válida!')\n",
    "\n",
    "if x == 1:\n",
    "    print(f'Pagando á vista a sua compra de R${preço:.2f} vai custar R${preço*(0.9):.2f}')\n",
    "elif x == 2:\n",
    "    print(f'Pagando á vista no cartão a sua compra de R${preço:.2f} vai custar R${preço*(0.95):.2f}')\n",
    "elif x == 3:\n",
    "    print(f'Pagando em 2x no cartão a sua compra de R${preço:.2f} vai custar 2 parcelas de R${preço/2:.2f}')\n",
    "elif x == 4:\n",
    "    y = int(input('Quantas parcelas? '))\n",
    "    print(f'Pagando em {y}x no cartão a sua compra de R${preço:.2f} vai custar {y} parcelas de R${(preço/y)*1.2:.2f}')\n"
   ]
  }
 ],
 "metadata": {
  "kernelspec": {
   "display_name": "Python 3",
   "language": "python",
   "name": "python3"
  },
  "language_info": {
   "codemirror_mode": {
    "name": "ipython",
    "version": 3
   },
   "file_extension": ".py",
   "mimetype": "text/x-python",
   "name": "python",
   "nbconvert_exporter": "python",
   "pygments_lexer": "ipython3",
   "version": "3.11.3"
  },
  "orig_nbformat": 4
 },
 "nbformat": 4,
 "nbformat_minor": 2
}
