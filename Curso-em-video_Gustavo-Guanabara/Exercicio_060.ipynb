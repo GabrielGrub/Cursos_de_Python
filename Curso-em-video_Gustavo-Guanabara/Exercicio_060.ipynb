{
 "cells": [
  {
   "cell_type": "code",
   "execution_count": 35,
   "metadata": {},
   "outputs": [
    {
     "name": "stdout",
     "output_type": "stream",
     "text": [
      "5! = 5x4x3x2x1 = 120\n"
     ]
    }
   ],
   "source": [
    "# Exercício 060 - Cálculo de fatorial\n",
    "\n",
    "x = int(input('Escolha um número de 0 a 10'))\n",
    "c = x\n",
    "r = x\n",
    "\n",
    "if x == 0:\n",
    "    print('O fatorial de 0 é 1')\n",
    "\n",
    "print(f'{x}! = ', end= '')\n",
    "\n",
    "while c != 0:\n",
    "    if c != 1:\n",
    "        print(f'{c}x', end ='')\n",
    "        c = c-1\n",
    "        r = r*c\n",
    "    if c == 1:\n",
    "        print(f'{c}', end ='')\n",
    "        c = c-1\n",
    "\n",
    "print(f' = {r}')\n"
   ]
  }
 ],
 "metadata": {
  "kernelspec": {
   "display_name": "Python 3",
   "language": "python",
   "name": "python3"
  },
  "language_info": {
   "codemirror_mode": {
    "name": "ipython",
    "version": 3
   },
   "file_extension": ".py",
   "mimetype": "text/x-python",
   "name": "python",
   "nbconvert_exporter": "python",
   "pygments_lexer": "ipython3",
   "version": "3.11.3"
  },
  "orig_nbformat": 4
 },
 "nbformat": 4,
 "nbformat_minor": 2
}
