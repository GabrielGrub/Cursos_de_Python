{
 "cells": [
  {
   "cell_type": "code",
   "execution_count": 26,
   "metadata": {},
   "outputs": [
    {
     "name": "stdout",
     "output_type": "stream",
     "text": [
      "O valor 23 foi adicionado ao final da lista\n",
      "O valor 15 foi adicionado na posição 0\n",
      "O valor 47 foi adicionado ao final da lista\n",
      "O valor 16 foi adicionado na posição 1\n",
      "O valor 18 foi adicionado na posição 2\n",
      "Os valores unicos digitados em ordem crescente são: [15, 16, 18, 23, 47]\n"
     ]
    }
   ],
   "source": [
    "# Exercício 080 - Lista ordenada sem repetição\n",
    "\n",
    "lista = []\n",
    "\n",
    "for c in range(0, 5):\n",
    "    x = int(input('Digite um número: '))\n",
    "    if c == 0 or x > lista[-1]:\n",
    "        lista.append(x)\n",
    "        print(f'O valor {x} foi adicionado ao final da lista')\n",
    "    else:\n",
    "        z = 0\n",
    "        while z < len(lista):\n",
    "            if x <= lista[z]:\n",
    "                lista.insert(z, x)\n",
    "                print(f'O valor {x} foi adicionado na posição {z}')\n",
    "                break\n",
    "            z += 1\n",
    "\n",
    "print(f'Os valores unicos digitados em ordem crescente são: {lista}')\n"
   ]
  }
 ],
 "metadata": {
  "kernelspec": {
   "display_name": "Python 3",
   "language": "python",
   "name": "python3"
  },
  "language_info": {
   "codemirror_mode": {
    "name": "ipython",
    "version": 3
   },
   "file_extension": ".py",
   "mimetype": "text/x-python",
   "name": "python",
   "nbconvert_exporter": "python",
   "pygments_lexer": "ipython3",
   "version": "3.11.3"
  },
  "orig_nbformat": 4
 },
 "nbformat": 4,
 "nbformat_minor": 2
}
