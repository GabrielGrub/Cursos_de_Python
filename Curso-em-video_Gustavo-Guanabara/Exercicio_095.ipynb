{
 "cells": [
  {
   "cell_type": "code",
   "execution_count": 63,
   "metadata": {},
   "outputs": [
    {
     "name": "stdout",
     "output_type": "stream",
     "text": [
      "ID   NOME            GOLS                 TOTAL\n",
      "--------------------------------------------------\n",
      "1    Gabriel         [2, 1, 0]            3    \n",
      "2    Thomaz          [1, 0, 3, 2]         6    \n",
      "\n",
      "LEVANTAMENTO DO JOGADOR Gabriel\n",
      "  Na 1º partida, fez 2 gols.\n",
      "  Na 2º partida, fez 1 gols.\n",
      "  Na 3º partida, fez 0 gols.\n",
      "\n",
      "LEVANTAMENTO DO JOGADOR Thomaz\n",
      "  Na 1º partida, fez 1 gols.\n",
      "  Na 2º partida, fez 0 gols.\n",
      "  Na 3º partida, fez 3 gols.\n",
      "  Na 4º partida, fez 2 gols.\n",
      "\n"
     ]
    }
   ],
   "source": [
    "# Exercício 095 - Aprimorando os dicionários\n",
    "\n",
    "jogador = dict()\n",
    "gols = []\n",
    "time = []\n",
    "resp = total = 0\n",
    "c = 1\n",
    "\n",
    "while resp != \"N\":\n",
    "    jogador['Nome'] = str(input(f'Nome do {c}º jogador: '))\n",
    "    jogador['partidas'] = int(input('Número de partidas: '))\n",
    "    for j in range(0, jogador['partidas']):\n",
    "        jogo = int(input(f'Quantos gols na {j+1}º partida'))\n",
    "        total += jogo\n",
    "        gols.append(jogo)\n",
    "    jogador['Gols'] = gols[:]\n",
    "    jogador['Total'] = total\n",
    "    time.append(jogador.copy())\n",
    "    jogador.clear()\n",
    "    gols.clear()\n",
    "    total = 0\n",
    "    c += 1\n",
    "    while True:\n",
    "        resp = str(input('Quer cadastrar mais um jogador? [S/N]').upper())\n",
    "        if resp == \"S\" or resp == \"N\":\n",
    "            break\n",
    "\n",
    "print(f'{\"ID\":<4} {\"NOME\":<15} {\"GOLS\":<20} {\"TOTAL\":<5}')\n",
    "print('-'*50)\n",
    "\n",
    "while True:\n",
    "    for i in range(0, len(time)):\n",
    "        print(f'{i+1:<4} {time[i][\"Nome\"]:<15} {str(time[i][\"Gols\"]):<20} {time[i][\"Total\"]:<5}')\n",
    "    print()\n",
    "    while True:\n",
    "        amostra = int(input('Deseja mostrar os dados de qual jogador? [ 0 para interromper]'))\n",
    "        if amostra == 0:\n",
    "            break\n",
    "        print(f'LEVANTAMENTO DO JOGADOR {time[amostra-1][\"Nome\"]}')\n",
    "        for i in range(0, time[amostra-1][\"partidas\"]):\n",
    "            print(f'  Na {i+1}º partida, fez {time[amostra-1][\"Gols\"][i]} gols.')\n",
    "        print()\n",
    "    break\n",
    "        "
   ]
  }
 ],
 "metadata": {
  "kernelspec": {
   "display_name": "Python 3",
   "language": "python",
   "name": "python3"
  },
  "language_info": {
   "codemirror_mode": {
    "name": "ipython",
    "version": 3
   },
   "file_extension": ".py",
   "mimetype": "text/x-python",
   "name": "python",
   "nbconvert_exporter": "python",
   "pygments_lexer": "ipython3",
   "version": "3.11.3"
  },
  "orig_nbformat": 4
 },
 "nbformat": 4,
 "nbformat_minor": 2
}
