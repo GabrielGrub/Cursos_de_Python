{
 "cells": [
  {
   "cell_type": "code",
   "execution_count": 5,
   "metadata": {},
   "outputs": [
    {
     "name": "stdout",
     "output_type": "stream",
     "text": [
      "Após o reajuste de 15.0%, o salário do funcionário passou de R$1200.00 para R$1380.00\n"
     ]
    }
   ],
   "source": [
    "# Exercício 013 - Reajuste salarial\n",
    "\n",
    "salario = float(input('Qual o salario atual do funcionário? R$'))\n",
    "reajuste = float(input('Qual o valor do reajuste do salario em % ? '))\n",
    "print(f'Após o reajuste de {reajuste}%, o salário do funcionário passou de R${salario:.2f} para R${(salario*(1 + reajuste/100)):.2f}')\n"
   ]
  }
 ],
 "metadata": {
  "kernelspec": {
   "display_name": "Python 3",
   "language": "python",
   "name": "python3"
  },
  "language_info": {
   "codemirror_mode": {
    "name": "ipython",
    "version": 3
   },
   "file_extension": ".py",
   "mimetype": "text/x-python",
   "name": "python",
   "nbconvert_exporter": "python",
   "pygments_lexer": "ipython3",
   "version": "3.11.3"
  },
  "orig_nbformat": 4
 },
 "nbformat": 4,
 "nbformat_minor": 2
}
