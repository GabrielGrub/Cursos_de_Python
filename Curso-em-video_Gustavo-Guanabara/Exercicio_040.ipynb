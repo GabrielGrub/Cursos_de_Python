{
 "cells": [
  {
   "cell_type": "code",
   "execution_count": 6,
   "metadata": {},
   "outputs": [
    {
     "name": "stdout",
     "output_type": "stream",
     "text": [
      "Sua média é 8.5, você está APROVADO!\n"
     ]
    }
   ],
   "source": [
    "# Exercício 040 - Aquele clássico da média\n",
    "\n",
    "nota1 = float(input('Digite sua primeira nota: '))\n",
    "nota2 = float(input('Digite sua segunda nota: '))\n",
    "\n",
    "media = (nota1 + nota2)/2\n",
    "\n",
    "if media < 5:\n",
    "    print(f'Sua média é {media:.1f}, você está REPROVADO!')\n",
    "elif 5 <= media < 7:\n",
    "    print(f'Sua média é {media:.1f}, você está de RECUPERAÇÃO')\n",
    "else:\n",
    "    print(f'Sua média é {media:.1f}, você está APROVADO!')\n"
   ]
  }
 ],
 "metadata": {
  "kernelspec": {
   "display_name": "Python 3",
   "language": "python",
   "name": "python3"
  },
  "language_info": {
   "codemirror_mode": {
    "name": "ipython",
    "version": 3
   },
   "file_extension": ".py",
   "mimetype": "text/x-python",
   "name": "python",
   "nbconvert_exporter": "python",
   "pygments_lexer": "ipython3",
   "version": "3.11.3"
  },
  "orig_nbformat": 4
 },
 "nbformat": 4,
 "nbformat_minor": 2
}
