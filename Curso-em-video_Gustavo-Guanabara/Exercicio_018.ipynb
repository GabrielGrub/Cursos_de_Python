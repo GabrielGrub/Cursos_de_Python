{
 "cells": [
  {
   "cell_type": "code",
   "execution_count": 6,
   "metadata": {},
   "outputs": [
    {
     "name": "stdout",
     "output_type": "stream",
     "text": [
      "O ângulo de 50º tem o seno -0.26, cosseno 0.96 e tangente -0.27\n"
     ]
    }
   ],
   "source": [
    "# Exercício 018 - Seno, Cosseno e Tangente\n",
    "\n",
    "from math import sin\n",
    "from math import cos\n",
    "from math import tan\n",
    "\n",
    "angulo = int(input('Digite o ângulo: '))\n",
    "print(f'O ângulo de {angulo}º tem o seno {sin(angulo):.2}, cosseno {cos(angulo):.2} e tangente {tan(angulo):.2}')\n"
   ]
  }
 ],
 "metadata": {
  "kernelspec": {
   "display_name": "Python 3",
   "language": "python",
   "name": "python3"
  },
  "language_info": {
   "codemirror_mode": {
    "name": "ipython",
    "version": 3
   },
   "file_extension": ".py",
   "mimetype": "text/x-python",
   "name": "python",
   "nbconvert_exporter": "python",
   "pygments_lexer": "ipython3",
   "version": "3.11.3"
  },
  "orig_nbformat": 4
 },
 "nbformat": 4,
 "nbformat_minor": 2
}
