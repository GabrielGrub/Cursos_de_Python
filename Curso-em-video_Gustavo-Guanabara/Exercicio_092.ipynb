{
 "cells": [
  {
   "cell_type": "code",
   "execution_count": 5,
   "metadata": {},
   "outputs": [
    {
     "name": "stdout",
     "output_type": "stream",
     "text": [
      "   - Nome: Gabriel\n",
      "   - Idade: 22\n",
      "   - CTPS: 2345\n",
      "   - Contratação: 2022\n",
      "   - Aposentadoria: 56\n",
      "   - Salário: 3000.0\n"
     ]
    }
   ],
   "source": [
    "# Exercício 092 - Cadastro de trabalhador em Python\n",
    "\n",
    "from datetime import datetime\n",
    "\n",
    "trabalhador = dict()\n",
    "trabalhador['Nome'] = str(input('Digite o nome do trabalhador(a): '))\n",
    "ano_nascimento = int(input(\"Digite o ano de nascimento: \"))\n",
    "trabalhador['Idade'] = datetime.now().year - ano_nascimento\n",
    "trabalhador['CTPS'] = int(input('Digite o número da carteira de trabalho: (\"0\" caso não tenha)'))\n",
    "if trabalhador['CTPS'] != 0:\n",
    "    trabalhador['Contratação'] = int(input(\"Digite o ano de contratação: \"))\n",
    "    trabalhador['Aposentadoria'] = trabalhador['Idade'] + ((trabalhador['Contratação'] + 35) - datetime.now().year)\n",
    "    trabalhador['Salário'] = float(input(\"Digite o salário: R$ \"))\n",
    "\n",
    "for k, v in trabalhador.items():\n",
    "    print(f'   - {k}: {v}')\n"
   ]
  }
 ],
 "metadata": {
  "kernelspec": {
   "display_name": "Python 3",
   "language": "python",
   "name": "python3"
  },
  "language_info": {
   "codemirror_mode": {
    "name": "ipython",
    "version": 3
   },
   "file_extension": ".py",
   "mimetype": "text/x-python",
   "name": "python",
   "nbconvert_exporter": "python",
   "pygments_lexer": "ipython3",
   "version": "3.11.3"
  },
  "orig_nbformat": 4
 },
 "nbformat": 4,
 "nbformat_minor": 2
}
