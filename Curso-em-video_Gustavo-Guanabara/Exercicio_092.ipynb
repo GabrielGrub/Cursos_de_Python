{
 "cells": [
  {
   "cell_type": "code",
   "execution_count": 13,
   "metadata": {},
   "outputs": [
    {
     "name": "stdout",
     "output_type": "stream",
     "text": [
      "O trabalhador se chama Gabriel e tem 22 anos\n",
      "Foi contratado há 0 anos e recebe R$3500.00 de salário\n",
      "É previsto que o Gabriel se aposente com 57 anos\n"
     ]
    }
   ],
   "source": [
    "# Exercício 092 - Cadastro de trabalhador em Python\n",
    "\n",
    "from datetime import datetime\n",
    "\n",
    "ano_atual = datetime.now().year\n",
    "trabalhador = dict()\n",
    "trabalhador['nome'] = str(input('Digite o nome do trabalhador(a): '))\n",
    "ano_nascimento = int(input(\"Digite o ano de nascimento: \"))\n",
    "idade = ano_atual - ano_nascimento\n",
    "trabalhador['carteira_de_trabalho'] = float(input('Digite o número da carteira de trabalho: (\"0\" caso não tenha)'))\n",
    "if trabalhador['carteira_de_trabalho'] != 0:\n",
    "    ano_contratacao = int(input(\"Digite o ano de contratação: \"))\n",
    "    anos_aposentar = 35 - (idade - (ano_contratacao - ano_nascimento))\n",
    "    idade_aposentadoria = idade + anos_aposentar\n",
    "    trabalhador['salario'] = float(input(\"Digite o salário: R$ \"))\n",
    "    print(f'O trabalhador se chama {trabalhador[\"nome\"]} e tem {idade} anos\\nFoi contratado há {ano_contratacao-ano_atual} anos e recebe R${trabalhador[\"salario\"]:.2f} de salário\\nÉ previsto que o {trabalhador[\"nome\"]} se aposente com {idade_aposentadoria} anos')\n",
    "else:\n",
    "    print(f'O trabalhador se chama {trabalhador[\"nome\"]} e tem {idade} anos')\n"
   ]
  }
 ],
 "metadata": {
  "kernelspec": {
   "display_name": "Python 3",
   "language": "python",
   "name": "python3"
  },
  "language_info": {
   "codemirror_mode": {
    "name": "ipython",
    "version": 3
   },
   "file_extension": ".py",
   "mimetype": "text/x-python",
   "name": "python",
   "nbconvert_exporter": "python",
   "pygments_lexer": "ipython3",
   "version": "3.11.3"
  },
  "orig_nbformat": 4
 },
 "nbformat": 4,
 "nbformat_minor": 2
}
