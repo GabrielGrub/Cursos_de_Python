{
 "cells": [
  {
   "cell_type": "code",
   "execution_count": 4,
   "metadata": {},
   "outputs": [
    {
     "name": "stdout",
     "output_type": "stream",
     "text": [
      "Prazer em te conhecer! \n",
      "Seu primeiro nome é Gabriel \n",
      "Seu último nome é Silva\n"
     ]
    }
   ],
   "source": [
    "# Exercício 027 - Primeiro e último nome de uma pessoa \n",
    "\n",
    "nome = input('Digite o seu nome completo: ')\n",
    "nome = nome.split()\n",
    "\n",
    "print(f'Muito prazer em te conhecer! \\nSeu primeiro nome é {nome[0]} \\nSeu último nome é {nome[-1]}')"
   ]
  }
 ],
 "metadata": {
  "kernelspec": {
   "display_name": "Python 3",
   "language": "python",
   "name": "python3"
  },
  "language_info": {
   "codemirror_mode": {
    "name": "ipython",
    "version": 3
   },
   "file_extension": ".py",
   "mimetype": "text/x-python",
   "name": "python",
   "nbconvert_exporter": "python",
   "pygments_lexer": "ipython3",
   "version": "3.11.3"
  },
  "orig_nbformat": 4
 },
 "nbformat": 4,
 "nbformat_minor": 2
}
