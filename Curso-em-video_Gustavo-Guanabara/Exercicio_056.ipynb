{
 "cells": [
  {
   "cell_type": "code",
   "execution_count": 29,
   "metadata": {},
   "outputs": [
    {
     "name": "stdout",
     "output_type": "stream",
     "text": [
      "A média de idade do grupo é 26.75\n",
      "O homem mais velho é o Thomaz\n",
      "Há 1 mulher com menos de 20 anos no grupo\n"
     ]
    }
   ],
   "source": [
    "# Exercício 056 - Analisador completo\n",
    "\n",
    "from statistics import mean\n",
    "\n",
    "contador = 1\n",
    "jovem = 0\n",
    "lista_nome = []\n",
    "lista_idade = []\n",
    "lista_sexo = []\n",
    "idade_homens = []\n",
    "nome_homens = []\n",
    "\n",
    "for pess in range(1, 5):\n",
    "    nome = input(f'Digite o nome da {contador}º pessoa: ')\n",
    "    idade = float(input(f'Digite a idade da {contador}º pessoa: '))\n",
    "    sexo = str(input(f'Digite o sexo da {contador}º pessoa(M ou F): ')).upper()\n",
    "    if sexo != 'M' and sexo != 'F':\n",
    "        print('Digite corretamente!: M ou F')\n",
    "        break\n",
    "    lista_nome.append(nome)\n",
    "    lista_idade.append(idade)\n",
    "    lista_sexo.append(sexo)\n",
    "    if sexo == 'F' and idade <20:\n",
    "        jovem += 1\n",
    "    if sexo == 'M':\n",
    "        idade_homens.append(idade)\n",
    "        nome_homens.append(nome)\n",
    "    contador += 1\n",
    "\n",
    "x = idade_homens.index(max(idade_homens))\n",
    "\n",
    "print(f'A média de idade do grupo é {mean(lista_idade)}')\n",
    "print(f'O homem mais velho tem {max(idade_homens)} anos e se chama {nome_homens[x]}')\n",
    "print(f'Há {jovem} mulher com menos de 20 anos no grupo')\n"
   ]
  }
 ],
 "metadata": {
  "kernelspec": {
   "display_name": "Python 3",
   "language": "python",
   "name": "python3"
  },
  "language_info": {
   "codemirror_mode": {
    "name": "ipython",
    "version": 3
   },
   "file_extension": ".py",
   "mimetype": "text/x-python",
   "name": "python",
   "nbconvert_exporter": "python",
   "pygments_lexer": "ipython3",
   "version": "3.11.3"
  },
  "orig_nbformat": 4
 },
 "nbformat": 4,
 "nbformat_minor": 2
}
