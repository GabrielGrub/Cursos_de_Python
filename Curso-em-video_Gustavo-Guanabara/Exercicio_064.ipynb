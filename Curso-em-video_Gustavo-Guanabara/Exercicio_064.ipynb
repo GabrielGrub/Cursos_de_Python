{
 "cells": [
  {
   "cell_type": "code",
   "execution_count": 4,
   "metadata": {},
   "outputs": [
    {
     "name": "stdout",
     "output_type": "stream",
     "text": [
      "Você digitou 3 números e a soma entre eles é 16\n"
     ]
    }
   ],
   "source": [
    "# Exercício 064 - Tratando vários valores v.1.0\n",
    "\n",
    "x = int(input(' Digite um número: (999 interrompe o programa!)'))\n",
    "c = 0\n",
    "s = 0\n",
    "\n",
    "while x != 999:\n",
    "    c += 1\n",
    "    s += x\n",
    "    x = int(input(' Digite um número novamente: (999 interrompe as solicitações!)'))\n",
    "\n",
    "print(f'Você digitou {c} números e a soma entre eles é {s}')\n"
   ]
  }
 ],
 "metadata": {
  "kernelspec": {
   "display_name": "Python 3",
   "language": "python",
   "name": "python3"
  },
  "language_info": {
   "codemirror_mode": {
    "name": "ipython",
    "version": 3
   },
   "file_extension": ".py",
   "mimetype": "text/x-python",
   "name": "python",
   "nbconvert_exporter": "python",
   "pygments_lexer": "ipython3",
   "version": "3.11.3"
  },
  "orig_nbformat": 4
 },
 "nbformat": 4,
 "nbformat_minor": 2
}
