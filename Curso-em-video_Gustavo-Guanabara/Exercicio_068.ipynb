{
 "cells": [
  {
   "cell_type": "code",
   "execution_count": 18,
   "metadata": {},
   "outputs": [
    {
     "name": "stdout",
     "output_type": "stream",
     "text": [
      "\u001b[1m--> JOGO DO PAR OU ÍMPAR <--\u001b[0m\n",
      "\n",
      "Você jogou 7 e o computador 0. Total 7 é ÍMPAR!\n",
      "Você venceu!\n",
      "\n",
      "Você jogou 8 e o computador 0. Total 8 é PAR!\n",
      "GAME OVER! Você venceu 1 vezes!\n"
     ]
    }
   ],
   "source": [
    "# Exercício 068 - Jogo do Par ou Ímpar\n",
    "\n",
    "import random\n",
    "\n",
    "c = 0\n",
    "\n",
    "print(f'\\033[1m--> JOGO DO PAR OU ÍMPAR <--\\033[0m\\n')\n",
    "\n",
    "while True:\n",
    "    n = int(input('Escolha um número:'))\n",
    "    y = input('Par ou ímpar? [P/I]').upper()\n",
    "    z = random.randrange(10)\n",
    "    if (n + z) % 2 == 0:\n",
    "        print(f'Você jogou {n} e o computador {z}. Total {n+z} é PAR!')\n",
    "    else:\n",
    "        print(f'Você jogou {n} e o computador {z}. Total {n+z} é ÍMPAR!')\n",
    "    if y == 'P':\n",
    "        if (n + z) % 2 == 0:\n",
    "            print('Você venceu!\\n')\n",
    "            c += 1\n",
    "        else:\n",
    "            print(f'GAME OVER! Você venceu {c} vezes!')\n",
    "            break\n",
    "    if y == 'I':\n",
    "        if (n + z) % 2 == 0:\n",
    "            print(f'GAME OVER! Você venceu {c} vezes!')\n",
    "            break\n",
    "        else:\n",
    "            print('Você venceu!\\n')\n",
    "            c += 1\n"
   ]
  }
 ],
 "metadata": {
  "kernelspec": {
   "display_name": "Python 3",
   "language": "python",
   "name": "python3"
  },
  "language_info": {
   "codemirror_mode": {
    "name": "ipython",
    "version": 3
   },
   "file_extension": ".py",
   "mimetype": "text/x-python",
   "name": "python",
   "nbconvert_exporter": "python",
   "pygments_lexer": "ipython3",
   "version": "3.11.3"
  },
  "orig_nbformat": 4
 },
 "nbformat": 4,
 "nbformat_minor": 2
}
