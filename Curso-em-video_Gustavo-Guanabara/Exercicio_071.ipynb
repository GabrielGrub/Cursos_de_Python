{
 "cells": [
  {
   "cell_type": "code",
   "execution_count": 16,
   "metadata": {},
   "outputs": [
    {
     "name": "stdout",
     "output_type": "stream",
     "text": [
      "--> BANCO ITAÚ <--\n",
      "\n",
      "Total de 3 cédulas de R$100\n",
      "Total de 1 cédulas de R$50\n",
      "Total de 2 cédulas de R$20\n",
      "Total de 0 cédulas de R$10\n",
      "Total de 1 cédulas de R$5\n",
      "Total de 2 cédulas de R$1\n",
      "\n",
      "-->  VOLTE SEMPRE! <--\n",
      "\n"
     ]
    }
   ],
   "source": [
    "# Exercício 071 - Simulador de Caixa Eletrônico\n",
    "\n",
    "print('--> BANCO ITAÚ <--\\n')\n",
    "\n",
    "r100 = r50 = r20 = r10 = r5 = r1 = 0\n",
    "\n",
    "valor = float(input('Qual valor você quer sacar? R$ '))\n",
    "\n",
    "while (valor / 100) >= 1:\n",
    "    r100 +=1\n",
    "    valor = valor - 100\n",
    "while (valor / 50) >= 1:\n",
    "    r50 +=1\n",
    "    valor = valor - 50\n",
    "while (valor / 20) >= 1:\n",
    "    r20 +=1\n",
    "    valor = valor - 20\n",
    "while (valor / 10) >= 1:\n",
    "    r10 +=1\n",
    "    valor = valor - 10\n",
    "while (valor / 5) >= 1:\n",
    "    r5 +=1\n",
    "    valor = valor - 5\n",
    "while (valor / 1) >= 1:\n",
    "    r1 +=1\n",
    "    valor = valor - 1\n",
    "\n",
    "print(f'Total de {r100} cédulas de R$100')\n",
    "print(f'Total de {r50} cédulas de R$50')\n",
    "print(f'Total de {r20} cédulas de R$20')\n",
    "print(f'Total de {r10} cédulas de R$10')\n",
    "print(f'Total de {r5} cédulas de R$5')\n",
    "print(f'Total de {r1} cédulas de R$1')\n",
    "\n",
    "print('\\n-->  VOLTE SEMPRE! <--\\n')\n"
   ]
  }
 ],
 "metadata": {
  "kernelspec": {
   "display_name": "Python 3",
   "language": "python",
   "name": "python3"
  },
  "language_info": {
   "codemirror_mode": {
    "name": "ipython",
    "version": 3
   },
   "file_extension": ".py",
   "mimetype": "text/x-python",
   "name": "python",
   "nbconvert_exporter": "python",
   "pygments_lexer": "ipython3",
   "version": "3.11.3"
  },
  "orig_nbformat": 4
 },
 "nbformat": 4,
 "nbformat_minor": 2
}
