{
 "cells": [
  {
   "cell_type": "code",
   "execution_count": 3,
   "metadata": {},
   "outputs": [
    {
     "name": "stdout",
     "output_type": "stream",
     "text": [
      "Os 10 termos de uma PA de razão 3\n",
      "\n",
      "3 -> 6 -> 9 -> 12 -> 15 -> 18 -> 21 -> 24 -> 27 -> 30 -> 33 -> 36 -> 39 -> ACABOU\n"
     ]
    }
   ],
   "source": [
    "# Exercício 062 - Progressão aritmética v.3.0\n",
    "\n",
    "x = 10\n",
    "c = 0\n",
    "t = int(input('Digite o primeiro termo: '))\n",
    "r = int(input('Digite a razão: '))\n",
    "\n",
    "print(f'Os 10 termos de uma PA de razão {r}\\n')\n",
    "\n",
    "while x != 0:\n",
    "    if c != x:\n",
    "        pa = t + (c*r)\n",
    "        print(f'{pa}', end=' -> ')\n",
    "        c += 1\n",
    "    else:\n",
    "        w = int(input(\"Quantos termos você quer mostrar a mais? \"))\n",
    "        x += w\n",
    "        if w == 0:\n",
    "            x = 0 \n",
    "    \n",
    "print('ACABOU')\n"
   ]
  }
 ],
 "metadata": {
  "kernelspec": {
   "display_name": "Python 3",
   "language": "python",
   "name": "python3"
  },
  "language_info": {
   "codemirror_mode": {
    "name": "ipython",
    "version": 3
   },
   "file_extension": ".py",
   "mimetype": "text/x-python",
   "name": "python",
   "nbconvert_exporter": "python",
   "pygments_lexer": "ipython3",
   "version": "3.11.3"
  },
  "orig_nbformat": 4
 },
 "nbformat": 4,
 "nbformat_minor": 2
}
