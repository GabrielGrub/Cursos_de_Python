{
 "cells": [
  {
   "cell_type": "code",
   "execution_count": 7,
   "metadata": {},
   "outputs": [
    {
     "name": "stdout",
     "output_type": "stream",
     "text": [
      "Entre essas 7 pessoas, 5 já atingiram a maioridade e 2 ainda são de menor\n"
     ]
    }
   ],
   "source": [
    "# Exercício 054 - Grupo de maioridade\n",
    "\n",
    "from datetime import date\n",
    "\n",
    "atual = date.today().year\n",
    "contador = 1\n",
    "maioridade = 0\n",
    "\n",
    "for p in range(1, 8):\n",
    "    nascimento = int(input(f'Digite o ano de nascimento da {contador}º pessoa: '))\n",
    "    idade = atual - nascimento\n",
    "    contador += 1\n",
    "    if idade >= 18:\n",
    "        maioridade += 1\n",
    "\n",
    "print(f'Entre essas 7 pessoas, {maioridade} já atingiram a maioridade e {7 - maioridade} ainda são de menor')\n"
   ]
  }
 ],
 "metadata": {
  "kernelspec": {
   "display_name": "Python 3",
   "language": "python",
   "name": "python3"
  },
  "language_info": {
   "codemirror_mode": {
    "name": "ipython",
    "version": 3
   },
   "file_extension": ".py",
   "mimetype": "text/x-python",
   "name": "python",
   "nbconvert_exporter": "python",
   "pygments_lexer": "ipython3",
   "version": "3.11.3"
  },
  "orig_nbformat": 4
 },
 "nbformat": 4,
 "nbformat_minor": 2
}
