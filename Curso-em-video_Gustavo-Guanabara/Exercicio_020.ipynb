{
 "cells": [
  {
   "cell_type": "code",
   "execution_count": 12,
   "metadata": {},
   "outputs": [
    {
     "name": "stdout",
     "output_type": "stream",
     "text": [
      "A ordem sorteada é: \n",
      " \n",
      " 1º:Gustavo \n",
      " 2º:Fernanda \n",
      " 3º:Rafaela \n",
      " 4º:Bruno \n",
      " 5º:Gabriel \n",
      " 6º:Luisa\n"
     ]
    }
   ],
   "source": [
    "# Exercício 020 - Sorteando uma ordem na lista\n",
    "\n",
    "import random\n",
    "\n",
    "a = input('Nome do primeiro aluno: ')\n",
    "b = input('Nome do segundo aluno: ')\n",
    "c = input('Nome do terceiro aluno: ')\n",
    "d = input('Nome do quarto aluno: ')\n",
    "e = input('Nome do quinto aluno: ')\n",
    "f = input('Nome do sexto aluno: ')\n",
    "\n",
    "lista = [a,b,c,d,e,f]\n",
    "random.shuffle(lista)\n",
    "\n",
    "print(f'A ordem sorteada é: \\n \\n 1º:{lista[0]} \\n 2º:{lista[1]} \\n 3º:{lista[2]} \\n 4º:{lista[3]} \\n 5º:{lista[4]} \\n 6º:{lista[5]}')\n"
   ]
  }
 ],
 "metadata": {
  "kernelspec": {
   "display_name": "Python 3",
   "language": "python",
   "name": "python3"
  },
  "language_info": {
   "codemirror_mode": {
    "name": "ipython",
    "version": 3
   },
   "file_extension": ".py",
   "mimetype": "text/x-python",
   "name": "python",
   "nbconvert_exporter": "python",
   "pygments_lexer": "ipython3",
   "version": "3.11.3"
  },
  "orig_nbformat": 4
 },
 "nbformat": 4,
 "nbformat_minor": 2
}
