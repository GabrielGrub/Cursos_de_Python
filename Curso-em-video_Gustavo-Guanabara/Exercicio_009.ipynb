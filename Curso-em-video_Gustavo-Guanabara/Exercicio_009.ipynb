{
 "cells": [
  {
   "cell_type": "code",
   "execution_count": 28,
   "metadata": {},
   "outputs": [
    {
     "name": "stdout",
     "output_type": "stream",
     "text": [
      "\u001b[1mTABUADA DO 9\u001b[0m \n",
      " \n",
      "9x1 = 9 \n",
      "9x2 = 18 \n",
      "9x3 = 27\n",
      "9x4 = 36 \n",
      "9x5 = 45 \n",
      "9x6 = 54 \n",
      "9x7 = 63 \n",
      "9x8 = 72 \n",
      "9x9 = 81 \n",
      "9x10 = 90\n"
     ]
    }
   ],
   "source": [
    "# Exercício 009 - Tabuada v1.0\n",
    "\n",
    "n = int(input('Digite um número inteiro para ver sua tabuada: '))\n",
    "print(f'\\033[1mTABUADA DO {n}\\033[0m \\n \\n{n}x1 = {n*1} \\n{n}x2 = {n*2} \\n{n}x3 = {n*3}\\n{n}x4 = {n*4} \\n{n}x5 = {n*5} \\n{n}x6 = {n*6} \\n{n}x7 = {n*7} \\n{n}x8 = {n*8} \\n{n}x9 = {n*9} \\n{n}x10 = {n*10}')\n"
   ]
  }
 ],
 "metadata": {
  "kernelspec": {
   "display_name": "Python 3",
   "language": "python",
   "name": "python3"
  },
  "language_info": {
   "codemirror_mode": {
    "name": "ipython",
    "version": 3
   },
   "file_extension": ".py",
   "mimetype": "text/x-python",
   "name": "python",
   "nbconvert_exporter": "python",
   "pygments_lexer": "ipython3",
   "version": "3.11.3"
  },
  "orig_nbformat": 4
 },
 "nbformat": 4,
 "nbformat_minor": 2
}
