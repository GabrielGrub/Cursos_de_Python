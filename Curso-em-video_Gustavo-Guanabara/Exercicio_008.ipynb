{
 "cells": [
  {
   "cell_type": "code",
   "execution_count": 2,
   "metadata": {},
   "outputs": [
    {
     "name": "stdout",
     "output_type": "stream",
     "text": [
      "78.5 metros é o mesmo que 7850.0 centimetros e 78500.0 milímetros.\n"
     ]
    }
   ],
   "source": [
    "# Exercício 008 - Conversor de medidas\n",
    "\n",
    "metros = float(input('Metros: '))\n",
    "centímetros = metros*100\n",
    "milímetros = metros*1000\n",
    "print(f'{metros} metros é o mesmo que {centímetros} centimetros e {milímetros} milímetros.')\n"
   ]
  }
 ],
 "metadata": {
  "kernelspec": {
   "display_name": "Python 3",
   "language": "python",
   "name": "python3"
  },
  "language_info": {
   "codemirror_mode": {
    "name": "ipython",
    "version": 3
   },
   "file_extension": ".py",
   "mimetype": "text/x-python",
   "name": "python",
   "nbconvert_exporter": "python",
   "pygments_lexer": "ipython3",
   "version": "3.11.3"
  },
  "orig_nbformat": 4
 },
 "nbformat": 4,
 "nbformat_minor": 2
}
