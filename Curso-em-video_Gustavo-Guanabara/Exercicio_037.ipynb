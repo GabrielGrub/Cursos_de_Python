{
 "cells": [
  {
   "cell_type": "code",
   "execution_count": 3,
   "metadata": {},
   "outputs": [
    {
     "name": "stdout",
     "output_type": "stream",
     "text": [
      "Escolha uma base de conversão: \n",
      " [1] converter para Binário \n",
      " [2] converter para Octal \n",
      " [3] converter para Hexadecimal\n",
      "\n",
      "834 convertido para Hexadecimal é igual a: 342\n"
     ]
    }
   ],
   "source": [
    "# Exercício 037 - Conversor de bases numéricas\n",
    "\n",
    "num = int(input('Digite um número inteiro: '))\n",
    "print('Escolha uma base de conversão: \\n [1] converter para Binário \\n [2] converter para Octal \\n [3] converter para Hexadecimal\\n')\n",
    "opcao = int(input('Escolha a opção: '))\n",
    "\n",
    "b = bin(num).replace('0b', '')\n",
    "o = oct(num).replace('0o', '')\n",
    "h = hex(num).replace('0x', '').upper()\n",
    "\n",
    "if(opcao == 1):\n",
    "    print(f'{num} convertido para Binário é igual a: {b}')\n",
    "elif(opcao == 2):\n",
    "    print(f'{num} convertido para Octal é igual a: {o}')\n",
    "elif(opcao == 3):\n",
    "    print(f'{num} convertido para Hexadecimal é igual a: {h}')\n",
    "else:\n",
    "    print('Você não escolheu uma das opções.')\n"
   ]
  }
 ],
 "metadata": {
  "kernelspec": {
   "display_name": "Python 3",
   "language": "python",
   "name": "python3"
  },
  "language_info": {
   "codemirror_mode": {
    "name": "ipython",
    "version": 3
   },
   "file_extension": ".py",
   "mimetype": "text/x-python",
   "name": "python",
   "nbconvert_exporter": "python",
   "pygments_lexer": "ipython3",
   "version": "3.11.3"
  },
  "orig_nbformat": 4
 },
 "nbformat": 4,
 "nbformat_minor": 2
}
